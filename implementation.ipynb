{
 "cells": [
  {
   "cell_type": "markdown",
   "id": "71bef988",
   "metadata": {},
   "source": [
    "## Title: Anomaly Detection on KDD Cup-99 Dataset (University of California, Irvine)\n",
    "### Course: Information Security Analysis and Audit Project Component Review 2\n",
    "### Mentor: Dr. Sivakumar N (SCOPE, VIT Vellore)\n",
    "#### Team Members:\n",
    "1) Jay Nitin Kaoshik (20BCT0258) <br>\n",
    "2) Utkarsh Singh (20BCI0284) <br>\n",
    "3) Mridul Madnani (20BDS0191) <br>\n",
    "4) Rajeev Prakash (20BCI0062)"
   ]
  },
  {
   "cell_type": "code",
   "execution_count": 1,
   "id": "25bdb759",
   "metadata": {},
   "outputs": [],
   "source": [
    "import warnings\n",
    "warnings.filterwarnings('ignore')"
   ]
  },
  {
   "cell_type": "code",
   "execution_count": 2,
   "id": "744a3a71",
   "metadata": {},
   "outputs": [
    {
     "name": "stdout",
     "output_type": "stream",
     "text": [
      "./archive\\corrected.gz\n",
      "./archive\\kddcup.data.corrected\n",
      "./archive\\kddcup.data.gz\n",
      "./archive\\kddcup.data_10_percent.gz\n",
      "./archive\\kddcup.data_10_percent_corrected\n",
      "./archive\\kddcup.names\n",
      "./archive\\kddcup.newtestdata_10_percent_unlabeled.gz\n",
      "./archive\\kddcup.testdata.unlabeled.gz\n",
      "./archive\\kddcup.testdata.unlabeled_10_percent.gz\n",
      "./archive\\training_attack_types\n",
      "./archive\\typo-correction.txt\n",
      "./archive\\corrected\\corrected\n",
      "./archive\\kddcup.data\\kddcup.data\n",
      "./archive\\kddcup.data_10_percent\\kddcup.data_10_percent\n",
      "./archive\\kddcup.newtestdata_10_percent_unlabeled\\kddcup.newtestdata_10_percent_unlabeled\n",
      "./archive\\kddcup.testdata.unlabeled\\kddcup.testdata.unlabeled\n",
      "./archive\\kddcup.testdata.unlabeled_10_percent\\kddcup.testdata.unlabeled_10_percent\n"
     ]
    }
   ],
   "source": [
    "import numpy as np # linear algebra\n",
    "import pandas as pd # data processing, CSV file I/O (e.g. pd.read_csv)\n",
    "\n",
    "import os\n",
    "for dirname, _, filenames in os.walk('./archive'):\n",
    "    for filename in filenames:\n",
    "        print(os.path.join(dirname, filename))"
   ]
  },
  {
   "cell_type": "code",
   "execution_count": 3,
   "id": "14a68455",
   "metadata": {},
   "outputs": [],
   "source": [
    "x = pd.read_csv('./archive/corrected.gz', compression='gzip', header=0, sep=',', quotechar='\"')\n",
    "x.to_csv('./PCAP.csv')\n",
    "\n",
    "\n",
    "y = pd.read_csv('./archive/kddcup.testdata.unlabeled.gz', compression='gzip', header=0, sep=',', quotechar='\"')\n",
    "y.to_csv('./PCAPTest.csv')"
   ]
  },
  {
   "cell_type": "code",
   "execution_count": 4,
   "id": "2058571a",
   "metadata": {},
   "outputs": [
    {
     "name": "stdout",
     "output_type": "stream",
     "text": [
      "Requirement already satisfied: scikit-learn in c:\\users\\jayka\\anaconda3\\lib\\site-packages (1.1.2)\n",
      "Requirement already satisfied: threadpoolctl>=2.0.0 in c:\\users\\jayka\\anaconda3\\lib\\site-packages (from scikit-learn) (3.1.0)\n",
      "Requirement already satisfied: numpy>=1.17.3 in c:\\users\\jayka\\anaconda3\\lib\\site-packages (from scikit-learn) (1.22.4)\n",
      "Requirement already satisfied: joblib>=1.0.0 in c:\\users\\jayka\\anaconda3\\lib\\site-packages (from scikit-learn) (1.2.0)\n",
      "Requirement already satisfied: scipy>=1.3.2 in c:\\users\\jayka\\anaconda3\\lib\\site-packages (from scikit-learn) (1.9.2)\n"
     ]
    }
   ],
   "source": [
    "!pip install scikit-learn"
   ]
  },
  {
   "cell_type": "code",
   "execution_count": 5,
   "id": "4b6314bc",
   "metadata": {},
   "outputs": [
    {
     "name": "stdout",
     "output_type": "stream",
     "text": [
      "<class 'pandas.core.frame.DataFrame'>\n",
      "Float64Index: 311029 entries, nan to 311027.0\n",
      "Data columns (total 42 columns):\n",
      " #   Column                       Non-Null Count   Dtype  \n",
      "---  ------                       --------------   -----  \n",
      " 0   duration                     311029 non-null  int64  \n",
      " 1   protocol_type                311029 non-null  object \n",
      " 2   service                      311029 non-null  object \n",
      " 3   flag                         311029 non-null  object \n",
      " 4   src_bytes                    311029 non-null  int64  \n",
      " 5   dst_bytes                    311029 non-null  int64  \n",
      " 6   land                         311029 non-null  float64\n",
      " 7   wrong_fragment               311029 non-null  float64\n",
      " 8   urgent                       311029 non-null  float64\n",
      " 9   hot                          311029 non-null  float64\n",
      " 10  num_failed_logins            311029 non-null  float64\n",
      " 11  logged_in                    311029 non-null  float64\n",
      " 12  num_compromised              311029 non-null  float64\n",
      " 13  root_shell                   311029 non-null  float64\n",
      " 14  su_attempted                 311029 non-null  float64\n",
      " 15  num_root                     311029 non-null  float64\n",
      " 16  num_file_creations           311029 non-null  float64\n",
      " 17  num_shells                   311029 non-null  float64\n",
      " 18  num_access_files             311029 non-null  float64\n",
      " 19  num_outbound_cmds            311029 non-null  float64\n",
      " 20  is_host_login                311029 non-null  float64\n",
      " 21  is_guest_login               311029 non-null  float64\n",
      " 22  count                        311029 non-null  int64  \n",
      " 23  srv_count                    311029 non-null  float64\n",
      " 24  serror_rate                  311029 non-null  float64\n",
      " 25  srv_serror_rate              311029 non-null  object \n",
      " 26  rerror_rate                  311029 non-null  object \n",
      " 27  srv_rerror_rate              311029 non-null  object \n",
      " 28  same_srv_rate                311029 non-null  float64\n",
      " 29  diff_srv_rate                311029 non-null  object \n",
      " 30  srv_diff_host_rate           311029 non-null  object \n",
      " 31  dst_host_count               311029 non-null  int64  \n",
      " 32  dst_host_srv_count           311029 non-null  int64  \n",
      " 33  dst_host_same_srv_rate       311029 non-null  object \n",
      " 34  dst_host_diff_srv_rate       311029 non-null  float64\n",
      " 35  dst_host_same_src_port_rate  311029 non-null  object \n",
      " 36  dst_host_srv_diff_host_rate  311029 non-null  object \n",
      " 37  dst_host_serror_rate         311029 non-null  object \n",
      " 38  dst_host_srv_serror_rate     311029 non-null  object \n",
      " 39  dst_host_rerror_rate         311029 non-null  object \n",
      " 40  dst_host_srv_rerror_rate     311029 non-null  object \n",
      " 41  label                        311029 non-null  object \n",
      "dtypes: float64(20), int64(6), object(16)\n",
      "memory usage: 102.0+ MB\n"
     ]
    }
   ],
   "source": [
    "import pandas as pd\n",
    "import numpy as np\n",
    "import matplotlib\n",
    "import matplotlib.pyplot as plt\n",
    "from sklearn.model_selection import train_test_split\n",
    "\n",
    "col_names = ['duration', 'protocol_type', 'service', 'flag', 'src_bytes', \n",
    "             'dst_bytes','land', 'wrong_fragment', 'urgent', 'hot', \n",
    "             'num_failed_logins', 'logged_in', 'num_compromised', 'root_shell',\n",
    "             'su_attempted', 'num_root', 'num_file_creations', 'num_shells', \n",
    "             'num_access_files', 'num_outbound_cmds', 'is_host_login', \n",
    "             'is_guest_login', 'count', 'srv_count', 'serror_rate', \n",
    "             'srv_serror_rate', 'rerror_rate', 'srv_rerror_rate', \n",
    "             'same_srv_rate', 'diff_srv_rate', 'srv_diff_host_rate', \n",
    "             'dst_host_count', 'dst_host_srv_count', 'dst_host_same_srv_rate', \n",
    "             'dst_host_diff_srv_rate', 'dst_host_same_src_port_rate',\n",
    "             'dst_host_srv_diff_host_rate', 'dst_host_serror_rate', \n",
    "             'dst_host_srv_serror_rate', 'dst_host_rerror_rate', \n",
    "             'dst_host_srv_rerror_rate', 'label']\n",
    "data = pd.read_csv('./PCAP.csv', header=None, names=col_names, low_memory=False)\n",
    "\n",
    "#drops rows that contain null values\n",
    "df = data.dropna()\n",
    "\n",
    "#returns description of the data in the DataFrame. If the DataFrame contains numerical data, the description contains these information for each column\n",
    "df.describe()\n",
    "df['is_host_login'].head()\n",
    "df.info()"
   ]
  },
  {
   "cell_type": "code",
   "execution_count": 6,
   "id": "f76baef5",
   "metadata": {},
   "outputs": [
    {
     "name": "stdout",
     "output_type": "stream",
     "text": [
      "<class 'pandas.core.frame.DataFrame'>\n",
      "Float64Index: 311027 entries, 1.0 to 311027.0\n",
      "Data columns (total 42 columns):\n",
      " #   Column                       Non-Null Count   Dtype  \n",
      "---  ------                       --------------   -----  \n",
      " 0   duration                     311027 non-null  int64  \n",
      " 1   protocol_type                311027 non-null  int64  \n",
      " 2   service                      311027 non-null  int64  \n",
      " 3   flag                         311027 non-null  int64  \n",
      " 4   src_bytes                    311027 non-null  int64  \n",
      " 5   dst_bytes                    311027 non-null  int64  \n",
      " 6   land                         311027 non-null  float64\n",
      " 7   wrong_fragment               311027 non-null  float64\n",
      " 8   urgent                       311027 non-null  float64\n",
      " 9   hot                          311027 non-null  float64\n",
      " 10  num_failed_logins            311027 non-null  float64\n",
      " 11  logged_in                    311027 non-null  float64\n",
      " 12  num_compromised              311027 non-null  float64\n",
      " 13  root_shell                   311027 non-null  float64\n",
      " 14  su_attempted                 311027 non-null  float64\n",
      " 15  num_root                     311027 non-null  float64\n",
      " 16  num_file_creations           311027 non-null  float64\n",
      " 17  num_shells                   311027 non-null  float64\n",
      " 18  num_access_files             311027 non-null  float64\n",
      " 19  num_outbound_cmds            311027 non-null  float64\n",
      " 20  is_host_login                311027 non-null  float64\n",
      " 21  is_guest_login               311027 non-null  float64\n",
      " 22  count                        311027 non-null  int64  \n",
      " 23  srv_count                    311027 non-null  float64\n",
      " 24  serror_rate                  311027 non-null  float64\n",
      " 25  srv_serror_rate              311027 non-null  float64\n",
      " 26  rerror_rate                  311027 non-null  float64\n",
      " 27  srv_rerror_rate              311027 non-null  float64\n",
      " 28  same_srv_rate                311027 non-null  float64\n",
      " 29  diff_srv_rate                311027 non-null  float64\n",
      " 30  srv_diff_host_rate           311027 non-null  float64\n",
      " 31  dst_host_count               311027 non-null  int64  \n",
      " 32  dst_host_srv_count           311027 non-null  int64  \n",
      " 33  dst_host_same_srv_rate       311027 non-null  float64\n",
      " 34  dst_host_diff_srv_rate       311027 non-null  float64\n",
      " 35  dst_host_same_src_port_rate  311027 non-null  float64\n",
      " 36  dst_host_srv_diff_host_rate  311027 non-null  float64\n",
      " 37  dst_host_serror_rate         311027 non-null  float64\n",
      " 38  dst_host_srv_serror_rate     311027 non-null  float64\n",
      " 39  dst_host_rerror_rate         311027 non-null  float64\n",
      " 40  dst_host_srv_rerror_rate     311027 non-null  float64\n",
      " 41  label                        311027 non-null  int64  \n",
      "dtypes: float64(32), int64(10)\n",
      "memory usage: 102.0 MB\n"
     ]
    }
   ],
   "source": [
    "df['protocol_type'] = df['protocol_type'].replace('udp', '0')\n",
    "df['protocol_type'] = df['protocol_type'].replace('tcp', '1')\n",
    "df['protocol_type'] = df['protocol_type'].replace('icmp', '2')\n",
    "\n",
    "df['service'] = df['service'].replace('private', '0')\n",
    "df['service'] = df['service'].replace('domain_u', '1')\n",
    "df['service'] = df['service'].replace('http', '2')\n",
    "df['service'] = df['service'].replace('smtp', '3')\n",
    "df['service'] = df['service'].replace('ftp_data', '4')\n",
    "df['service'] = df['service'].replace('ftp', '5')\n",
    "df['service'] = df['service'].replace('eco_i', '6')\n",
    "df['service'] = df['service'].replace('other', '7')\n",
    "df['service'] = df['service'].replace('auth', '8')\n",
    "df['service'] = df['service'].replace('ecr_i', '9')\n",
    "df['service'] = df['service'].replace('IRC', '10')\n",
    "df['service'] = df['service'].replace('X11', '11')\n",
    "df['service'] = df['service'].replace('finger', '12')\n",
    "df['service'] = df['service'].replace('time', '13')\n",
    "df['service'] = df['service'].replace('domain', '14')\n",
    "df['service'] = df['service'].replace('telnet', '15')\n",
    "df['service'] = df['service'].replace('pop_3', '16')\n",
    "df['service'] = df['service'].replace('ldap', '17')\n",
    "df['service'] = df['service'].replace('login', '18')\n",
    "df['service'] = df['service'].replace('name', '19')\n",
    "df['service'] = df['service'].replace('ntp_u', '20')\n",
    "df['service'] = df['service'].replace('http_443', '21')\n",
    "df['service'] = df['service'].replace('sunrpc', '22')\n",
    "df['service'] = df['service'].replace('printer', '23')\n",
    "df['service'] = df['service'].replace('systat', '24')\n",
    "df['service'] = df['service'].replace('tim_i', '25')\n",
    "df['service'] = df['service'].replace('netstat', '26')\n",
    "df['service'] = df['service'].replace('remote_job', '27')\n",
    "df['service'] = df['service'].replace('link', '28')\n",
    "df['service'] = df['service'].replace('urp_i', '29')\n",
    "df['service'] = df['service'].replace('sql_net', '30')\n",
    "df['service'] = df['service'].replace('bgp', '31')\n",
    "df['service'] = df['service'].replace('pop_2', '32')\n",
    "df['service'] = df['service'].replace('tftp_u', '33')\n",
    "df['service'] = df['service'].replace('uucp', '34')\n",
    "df['service'] = df['service'].replace('imap4', '35')\n",
    "df['service'] = df['service'].replace('pm_dump', '36')\n",
    "df['service'] = df['service'].replace('nnsp', '37')\n",
    "df['service'] = df['service'].replace('courier', '38')\n",
    "df['service'] = df['service'].replace('daytime', '39')\n",
    "df['service'] = df['service'].replace('iso_tsap', '40')\n",
    "df['service'] = df['service'].replace('echo', '41')\n",
    "df['service'] = df['service'].replace('discard', '42')\n",
    "df['service'] = df['service'].replace('ssh', '43')\n",
    "df['service'] = df['service'].replace('whois', '44')\n",
    "df['service'] = df['service'].replace('mtp', '45')\n",
    "df['service'] = df['service'].replace('gopher', '46')\n",
    "df['service'] = df['service'].replace('rje', '47')\n",
    "df['service'] = df['service'].replace('ctf', '48')\n",
    "df['service'] = df['service'].replace('supdup', '49')\n",
    "df['service'] = df['service'].replace('hostnames', '50')\n",
    "df['service'] = df['service'].replace('csnet_ns', '51')\n",
    "df['service'] = df['service'].replace('uucp_path', '52')\n",
    "df['service'] = df['service'].replace('nntp', '53')\n",
    "df['service'] = df['service'].replace('netbios_ns', '54')\n",
    "df['service'] = df['service'].replace('netbios_dgm', '55')\n",
    "df['service'] = df['service'].replace('netbios_ssn', '56')\n",
    "df['service'] = df['service'].replace('vmnet', '57')\n",
    "df['service'] = df['service'].replace('Z39_50', '58')\n",
    "df['service'] = df['service'].replace('exec', '59')\n",
    "df['service'] = df['service'].replace('shell', '60')\n",
    "df['service'] = df['service'].replace('efs', '61')\n",
    "df['service'] = df['service'].replace('klogin', '62')\n",
    "df['service'] = df['service'].replace('kshell', '63')\n",
    "df['service'] = df['service'].replace('icmp', '64')\n",
    "\n",
    "df['flag'] = df['flag'].replace('SF', '0')\n",
    "df['flag'] = df['flag'].replace('SH', '1')\n",
    "df['flag'] = df['flag'].replace('RSTR', '2')\n",
    "df['flag'] = df['flag'].replace('REJ', '3')\n",
    "df['flag'] = df['flag'].replace('S0', '4')\n",
    "df['flag'] = df['flag'].replace('S1', '5')\n",
    "df['flag'] = df['flag'].replace('S2', '6')\n",
    "df['flag'] = df['flag'].replace('S3', '7')\n",
    "df['flag'] = df['flag'].replace('RSTO', '8')\n",
    "df['flag'] = df['flag'].replace('RSTOS0', '9')\n",
    "df['flag'] = df['flag'].replace('OTH', '10')\n",
    "\n",
    "\n",
    "df['label'] = df['label'].replace(['back.', 'land.', 'neptune.', 'pod.','smurf.', 'teardrop.', 'apache2.','udpstorm.','processtable.', 'worm.'], '1') \n",
    "#10 DoS\n",
    "\n",
    "df['label'] = df['label'].replace(['satan.', 'ipsweep.', 'nmap.', 'portsweep.', 'mscan.', 'saint.'], '2') \n",
    "#6 Probe\n",
    "\n",
    "df['label'] = df['label'].replace(['guess_passwd.', 'ftp_write.', 'imap.', 'phf.', 'multihop.', 'warezmaster.', 'warezclient.', 'spy.', 'xlock.', 'xsnoop.', 'snmpguess.', 'snmpgetattack.', 'httptunnel.', 'sendmail.', 'named.', 'mailbomb.'], '3') \n",
    "#16 R2L\n",
    "\n",
    "df['label'] = df['label'].replace(['buffer_overflow.', 'loadmodule.', 'rootkit.', 'perl.', 'sqlattack.', 'xterm.', 'ps.'], '4') \n",
    "#7 U2R\n",
    "\n",
    "df['label'] = df['label'].replace('normal.', '0')\n",
    "#1 Normal\n",
    "\n",
    "df = df.drop(df.index[:2])\n",
    "\n",
    "#Gives the information about first 10 records.\n",
    "df.head(10)\n",
    "\n",
    "#converts non-essential non-numeric datafields into numeric datafields. \n",
    "df[\"protocol_type\"] = pd.to_numeric(df[\"protocol_type\"])\n",
    "df[\"service\"] = pd.to_numeric(df[\"service\"])\n",
    "df[\"flag\"]= pd.to_numeric(df[\"flag\"])\n",
    "df[\"label\"] = pd.to_numeric(df[\"label\"])\n",
    "df[\"dst_host_srv_rerror_rate\"] = pd.to_numeric(df[\"dst_host_srv_rerror_rate\"])\n",
    "df[\"dst_host_rerror_rate\"] = pd.to_numeric(df[\"dst_host_rerror_rate\"])\n",
    "df[\"dst_host_srv_serror_rate\"] = pd.to_numeric(df[\"dst_host_srv_serror_rate\"])\n",
    "df[\"dst_host_serror_rate\"] = pd.to_numeric(df[\"dst_host_serror_rate\"])\n",
    "df[\"dst_host_srv_diff_host_rate\"] = pd.to_numeric(df[\"dst_host_srv_diff_host_rate\"])\n",
    "df[\"dst_host_same_src_port_rate\"] = pd.to_numeric(df[\"dst_host_same_src_port_rate\"])\n",
    "df[\"dst_host_same_srv_rate\"] = pd.to_numeric(df[\"dst_host_same_srv_rate\"])\n",
    "df[\"srv_diff_host_rate\"] = pd.to_numeric(df[\"srv_diff_host_rate\"])\n",
    "df[\"diff_srv_rate\"] = pd.to_numeric(df[\"diff_srv_rate\"])\n",
    "df[\"srv_serror_rate\"]= pd.to_numeric(df[\"srv_serror_rate\"])\n",
    "df[\"srv_rerror_rate\"]= pd.to_numeric(df[\"srv_rerror_rate\"])\n",
    "df[\"rerror_rate\"]= pd.to_numeric(df[\"rerror_rate\"])\n",
    "\n",
    "#displays the number of columns corresponding to a particular datatype.\n",
    "df.info()\n",
    "\n",
    "# df.head(10)\n"
   ]
  },
  {
   "cell_type": "code",
   "execution_count": 7,
   "id": "bc9e8081",
   "metadata": {},
   "outputs": [],
   "source": [
    "#drops the label entry from the dataframe\n",
    "data = df.drop('label', axis=1)\n",
    "label = pd.DataFrame(df['label'])\n",
    "\n",
    "#dividing the data into testing and training sets.\n",
    "X_train, X_test, y_train, y_test = train_test_split(data, label,test_size=0.2)\n",
    "df.to_csv(\"./clean_labeled.csv\", \n",
    "          index=False)\n",
    "X_train.to_csv(\"./train_data.csv\", \n",
    "           index=False)\n",
    "y_train.to_csv(\"./train_label.csv\", \n",
    "           index=False)\n",
    "X_test.to_csv(\"./test_data.csv\", \n",
    "           index=False)\n",
    "y_test.to_csv(\"./test_label.csv\", \n",
    "           index=False)"
   ]
  },
  {
   "cell_type": "code",
   "execution_count": 8,
   "id": "e7486b06",
   "metadata": {},
   "outputs": [
    {
     "data": {
      "text/plain": [
       "1    224855\n",
       "0     60591\n",
       "3     21345\n",
       "2      4166\n",
       "4        70\n",
       "Name: label, dtype: int64"
      ]
     },
     "execution_count": 8,
     "metadata": {},
     "output_type": "execute_result"
    }
   ],
   "source": [
    "#finds unique value counts of label.\n",
    "df['label'].value_counts()"
   ]
  },
  {
   "cell_type": "code",
   "execution_count": 9,
   "id": "499314c8",
   "metadata": {},
   "outputs": [
    {
     "data": {
      "text/plain": [
       "<Figure size 432x288 with 0 Axes>"
      ]
     },
     "metadata": {},
     "output_type": "display_data"
    },
    {
     "data": {
      "image/png": "[encoded data removed]",
      "text/plain": [
       "<Figure size 864x576 with 1 Axes>"
      ]
     },
     "metadata": {
      "needs_background": "light"
     },
     "output_type": "display_data"
    }
   ],
   "source": [
    "#clears current figure\n",
    "plt.clf()\n",
    "\n",
    "#sets the figure size\n",
    "plt.figure(figsize=(12, 8))\n",
    "params = {'axes.titlesize':'18',\n",
    "          'xtick.labelsize':'14',\n",
    "          'ytick.labelsize':'14'}\n",
    "matplotlib.rcParams.update(params)\n",
    "plt.title('Distribution of attacks')\n",
    "\n",
    "#Y axis denotes the label type/ type of attack and the x-axis denotes the log base e of the number of attacks.\n",
    "df['label'].value_counts().apply(np.log).plot(kind='barh')\n",
    "\n",
    "plt.show()"
   ]
  },
  {
   "cell_type": "code",
   "execution_count": 10,
   "id": "a2f2f7ae",
   "metadata": {},
   "outputs": [
    {
     "data": {
      "text/html": [
       "<div>\n",
       "<style scoped>\n",
       "    .dataframe tbody tr th:only-of-type {\n",
       "        vertical-align: middle;\n",
       "    }\n",
       "\n",
       "    .dataframe tbody tr th {\n",
       "        vertical-align: top;\n",
       "    }\n",
       "\n",
       "    .dataframe thead th {\n",
       "        text-align: right;\n",
       "    }\n",
       "</style>\n",
       "<table border=\"1\" class=\"dataframe\">\n",
       "  <thead>\n",
       "    <tr style=\"text-align: right;\">\n",
       "      <th></th>\n",
       "      <th>duration</th>\n",
       "      <th>protocol_type</th>\n",
       "      <th>service</th>\n",
       "      <th>flag</th>\n",
       "      <th>src_bytes</th>\n",
       "      <th>dst_bytes</th>\n",
       "      <th>land</th>\n",
       "      <th>wrong_fragment</th>\n",
       "      <th>urgent</th>\n",
       "      <th>hot</th>\n",
       "      <th>...</th>\n",
       "      <th>dst_host_count</th>\n",
       "      <th>dst_host_srv_count</th>\n",
       "      <th>dst_host_same_srv_rate</th>\n",
       "      <th>dst_host_diff_srv_rate</th>\n",
       "      <th>dst_host_same_src_port_rate</th>\n",
       "      <th>dst_host_srv_diff_host_rate</th>\n",
       "      <th>dst_host_serror_rate</th>\n",
       "      <th>dst_host_srv_serror_rate</th>\n",
       "      <th>dst_host_rerror_rate</th>\n",
       "      <th>dst_host_srv_rerror_rate</th>\n",
       "    </tr>\n",
       "  </thead>\n",
       "  <tbody>\n",
       "    <tr>\n",
       "      <th>NaN</th>\n",
       "      <td>0</td>\n",
       "      <td>udp</td>\n",
       "      <td>private</td>\n",
       "      <td>SF</td>\n",
       "      <td>105</td>\n",
       "      <td>146</td>\n",
       "      <td>0.1</td>\n",
       "      <td>0.2</td>\n",
       "      <td>0.3</td>\n",
       "      <td>0.4</td>\n",
       "      <td>...</td>\n",
       "      <td>1.2</td>\n",
       "      <td>1.3</td>\n",
       "      <td>1.00.1</td>\n",
       "      <td>0.00.6</td>\n",
       "      <td>1.00.2</td>\n",
       "      <td>0.00.7</td>\n",
       "      <td>0.00.8</td>\n",
       "      <td>0.00.9</td>\n",
       "      <td>0.00.10</td>\n",
       "      <td>0.00.11</td>\n",
       "    </tr>\n",
       "    <tr>\n",
       "      <th>0.0</th>\n",
       "      <td>0</td>\n",
       "      <td>udp</td>\n",
       "      <td>private</td>\n",
       "      <td>SF</td>\n",
       "      <td>105</td>\n",
       "      <td>146</td>\n",
       "      <td>0.0</td>\n",
       "      <td>0.0</td>\n",
       "      <td>0.0</td>\n",
       "      <td>0.0</td>\n",
       "      <td>...</td>\n",
       "      <td>255.0</td>\n",
       "      <td>254.0</td>\n",
       "      <td>1.0</td>\n",
       "      <td>0.01</td>\n",
       "      <td>0.0</td>\n",
       "      <td>0.0</td>\n",
       "      <td>0.0</td>\n",
       "      <td>0.0</td>\n",
       "      <td>0.0</td>\n",
       "      <td>0.0</td>\n",
       "    </tr>\n",
       "    <tr>\n",
       "      <th>1.0</th>\n",
       "      <td>0</td>\n",
       "      <td>udp</td>\n",
       "      <td>private</td>\n",
       "      <td>SF</td>\n",
       "      <td>105</td>\n",
       "      <td>146</td>\n",
       "      <td>0.0</td>\n",
       "      <td>0.0</td>\n",
       "      <td>0.0</td>\n",
       "      <td>0.0</td>\n",
       "      <td>...</td>\n",
       "      <td>255.0</td>\n",
       "      <td>254.0</td>\n",
       "      <td>1.0</td>\n",
       "      <td>0.01</td>\n",
       "      <td>0.0</td>\n",
       "      <td>0.0</td>\n",
       "      <td>0.0</td>\n",
       "      <td>0.0</td>\n",
       "      <td>0.0</td>\n",
       "      <td>0.0</td>\n",
       "    </tr>\n",
       "    <tr>\n",
       "      <th>2.0</th>\n",
       "      <td>0</td>\n",
       "      <td>udp</td>\n",
       "      <td>private</td>\n",
       "      <td>SF</td>\n",
       "      <td>105</td>\n",
       "      <td>146</td>\n",
       "      <td>0.0</td>\n",
       "      <td>0.0</td>\n",
       "      <td>0.0</td>\n",
       "      <td>0.0</td>\n",
       "      <td>...</td>\n",
       "      <td>255.0</td>\n",
       "      <td>254.0</td>\n",
       "      <td>1.0</td>\n",
       "      <td>0.01</td>\n",
       "      <td>0.0</td>\n",
       "      <td>0.0</td>\n",
       "      <td>0.0</td>\n",
       "      <td>0.0</td>\n",
       "      <td>0.0</td>\n",
       "      <td>0.0</td>\n",
       "    </tr>\n",
       "    <tr>\n",
       "      <th>3.0</th>\n",
       "      <td>0</td>\n",
       "      <td>udp</td>\n",
       "      <td>private</td>\n",
       "      <td>SF</td>\n",
       "      <td>105</td>\n",
       "      <td>146</td>\n",
       "      <td>0.0</td>\n",
       "      <td>0.0</td>\n",
       "      <td>0.0</td>\n",
       "      <td>0.0</td>\n",
       "      <td>...</td>\n",
       "      <td>255.0</td>\n",
       "      <td>254.0</td>\n",
       "      <td>1.0</td>\n",
       "      <td>0.01</td>\n",
       "      <td>0.01</td>\n",
       "      <td>0.0</td>\n",
       "      <td>0.0</td>\n",
       "      <td>0.0</td>\n",
       "      <td>0.0</td>\n",
       "      <td>0.0</td>\n",
       "    </tr>\n",
       "    <tr>\n",
       "      <th>4.0</th>\n",
       "      <td>0</td>\n",
       "      <td>udp</td>\n",
       "      <td>private</td>\n",
       "      <td>SF</td>\n",
       "      <td>105</td>\n",
       "      <td>146</td>\n",
       "      <td>0.0</td>\n",
       "      <td>0.0</td>\n",
       "      <td>0.0</td>\n",
       "      <td>0.0</td>\n",
       "      <td>...</td>\n",
       "      <td>255.0</td>\n",
       "      <td>254.0</td>\n",
       "      <td>1.0</td>\n",
       "      <td>0.01</td>\n",
       "      <td>0.01</td>\n",
       "      <td>0.0</td>\n",
       "      <td>0.0</td>\n",
       "      <td>0.0</td>\n",
       "      <td>0.0</td>\n",
       "      <td>0.0</td>\n",
       "    </tr>\n",
       "    <tr>\n",
       "      <th>5.0</th>\n",
       "      <td>0</td>\n",
       "      <td>udp</td>\n",
       "      <td>private</td>\n",
       "      <td>SF</td>\n",
       "      <td>105</td>\n",
       "      <td>146</td>\n",
       "      <td>0.0</td>\n",
       "      <td>0.0</td>\n",
       "      <td>0.0</td>\n",
       "      <td>0.0</td>\n",
       "      <td>...</td>\n",
       "      <td>255.0</td>\n",
       "      <td>254.0</td>\n",
       "      <td>1.0</td>\n",
       "      <td>0.01</td>\n",
       "      <td>0.0</td>\n",
       "      <td>0.0</td>\n",
       "      <td>0.0</td>\n",
       "      <td>0.0</td>\n",
       "      <td>0.0</td>\n",
       "      <td>0.0</td>\n",
       "    </tr>\n",
       "    <tr>\n",
       "      <th>6.0</th>\n",
       "      <td>0</td>\n",
       "      <td>udp</td>\n",
       "      <td>private</td>\n",
       "      <td>SF</td>\n",
       "      <td>105</td>\n",
       "      <td>146</td>\n",
       "      <td>0.0</td>\n",
       "      <td>0.0</td>\n",
       "      <td>0.0</td>\n",
       "      <td>0.0</td>\n",
       "      <td>...</td>\n",
       "      <td>255.0</td>\n",
       "      <td>253.0</td>\n",
       "      <td>0.99</td>\n",
       "      <td>0.01</td>\n",
       "      <td>0.01</td>\n",
       "      <td>0.0</td>\n",
       "      <td>0.0</td>\n",
       "      <td>0.0</td>\n",
       "      <td>0.0</td>\n",
       "      <td>0.0</td>\n",
       "    </tr>\n",
       "    <tr>\n",
       "      <th>7.0</th>\n",
       "      <td>0</td>\n",
       "      <td>udp</td>\n",
       "      <td>private</td>\n",
       "      <td>SF</td>\n",
       "      <td>105</td>\n",
       "      <td>146</td>\n",
       "      <td>0.0</td>\n",
       "      <td>0.0</td>\n",
       "      <td>0.0</td>\n",
       "      <td>0.0</td>\n",
       "      <td>...</td>\n",
       "      <td>255.0</td>\n",
       "      <td>253.0</td>\n",
       "      <td>0.99</td>\n",
       "      <td>0.01</td>\n",
       "      <td>0.01</td>\n",
       "      <td>0.0</td>\n",
       "      <td>0.0</td>\n",
       "      <td>0.0</td>\n",
       "      <td>0.0</td>\n",
       "      <td>0.0</td>\n",
       "    </tr>\n",
       "    <tr>\n",
       "      <th>8.0</th>\n",
       "      <td>0</td>\n",
       "      <td>udp</td>\n",
       "      <td>private</td>\n",
       "      <td>SF</td>\n",
       "      <td>105</td>\n",
       "      <td>146</td>\n",
       "      <td>0.0</td>\n",
       "      <td>0.0</td>\n",
       "      <td>0.0</td>\n",
       "      <td>0.0</td>\n",
       "      <td>...</td>\n",
       "      <td>255.0</td>\n",
       "      <td>254.0</td>\n",
       "      <td>1.0</td>\n",
       "      <td>0.01</td>\n",
       "      <td>0.0</td>\n",
       "      <td>0.0</td>\n",
       "      <td>0.0</td>\n",
       "      <td>0.0</td>\n",
       "      <td>0.0</td>\n",
       "      <td>0.0</td>\n",
       "    </tr>\n",
       "  </tbody>\n",
       "</table>\n",
       "<p>10 rows × 41 columns</p>\n",
       "</div>"
      ],
      "text/plain": [
       "     duration protocol_type  service flag  src_bytes  dst_bytes  land  \\\n",
       "NaN         0           udp  private   SF        105        146   0.1   \n",
       "0.0         0           udp  private   SF        105        146   0.0   \n",
       "1.0         0           udp  private   SF        105        146   0.0   \n",
       "2.0         0           udp  private   SF        105        146   0.0   \n",
       "3.0         0           udp  private   SF        105        146   0.0   \n",
       "4.0         0           udp  private   SF        105        146   0.0   \n",
       "5.0         0           udp  private   SF        105        146   0.0   \n",
       "6.0         0           udp  private   SF        105        146   0.0   \n",
       "7.0         0           udp  private   SF        105        146   0.0   \n",
       "8.0         0           udp  private   SF        105        146   0.0   \n",
       "\n",
       "     wrong_fragment  urgent  hot  ...  dst_host_count  dst_host_srv_count  \\\n",
       "NaN             0.2     0.3  0.4  ...             1.2                 1.3   \n",
       "0.0             0.0     0.0  0.0  ...           255.0               254.0   \n",
       "1.0             0.0     0.0  0.0  ...           255.0               254.0   \n",
       "2.0             0.0     0.0  0.0  ...           255.0               254.0   \n",
       "3.0             0.0     0.0  0.0  ...           255.0               254.0   \n",
       "4.0             0.0     0.0  0.0  ...           255.0               254.0   \n",
       "5.0             0.0     0.0  0.0  ...           255.0               254.0   \n",
       "6.0             0.0     0.0  0.0  ...           255.0               253.0   \n",
       "7.0             0.0     0.0  0.0  ...           255.0               253.0   \n",
       "8.0             0.0     0.0  0.0  ...           255.0               254.0   \n",
       "\n",
       "     dst_host_same_srv_rate  dst_host_diff_srv_rate  \\\n",
       "NaN                  1.00.1                  0.00.6   \n",
       "0.0                     1.0                    0.01   \n",
       "1.0                     1.0                    0.01   \n",
       "2.0                     1.0                    0.01   \n",
       "3.0                     1.0                    0.01   \n",
       "4.0                     1.0                    0.01   \n",
       "5.0                     1.0                    0.01   \n",
       "6.0                    0.99                    0.01   \n",
       "7.0                    0.99                    0.01   \n",
       "8.0                     1.0                    0.01   \n",
       "\n",
       "     dst_host_same_src_port_rate  dst_host_srv_diff_host_rate  \\\n",
       "NaN                       1.00.2                       0.00.7   \n",
       "0.0                          0.0                          0.0   \n",
       "1.0                          0.0                          0.0   \n",
       "2.0                          0.0                          0.0   \n",
       "3.0                         0.01                          0.0   \n",
       "4.0                         0.01                          0.0   \n",
       "5.0                          0.0                          0.0   \n",
       "6.0                         0.01                          0.0   \n",
       "7.0                         0.01                          0.0   \n",
       "8.0                          0.0                          0.0   \n",
       "\n",
       "     dst_host_serror_rate  dst_host_srv_serror_rate  dst_host_rerror_rate  \\\n",
       "NaN                0.00.8                    0.00.9               0.00.10   \n",
       "0.0                   0.0                       0.0                   0.0   \n",
       "1.0                   0.0                       0.0                   0.0   \n",
       "2.0                   0.0                       0.0                   0.0   \n",
       "3.0                   0.0                       0.0                   0.0   \n",
       "4.0                   0.0                       0.0                   0.0   \n",
       "5.0                   0.0                       0.0                   0.0   \n",
       "6.0                   0.0                       0.0                   0.0   \n",
       "7.0                   0.0                       0.0                   0.0   \n",
       "8.0                   0.0                       0.0                   0.0   \n",
       "\n",
       "     dst_host_srv_rerror_rate  \n",
       "NaN                   0.00.11  \n",
       "0.0                       0.0  \n",
       "1.0                       0.0  \n",
       "2.0                       0.0  \n",
       "3.0                       0.0  \n",
       "4.0                       0.0  \n",
       "5.0                       0.0  \n",
       "6.0                       0.0  \n",
       "7.0                       0.0  \n",
       "8.0                       0.0  \n",
       "\n",
       "[10 rows x 41 columns]"
      ]
     },
     "execution_count": 10,
     "metadata": {},
     "output_type": "execute_result"
    }
   ],
   "source": [
    "col_names = ['duration', 'protocol_type', 'service', 'flag', 'src_bytes', \n",
    "             'dst_bytes', 'land', 'wrong_fragment', 'urgent', 'hot', \n",
    "             'num_failed_logins', 'logged_in', 'num_compromised', 'root_shell',\n",
    "             'su_attempted', 'num_root', 'num_file_creations', 'num_shells', \n",
    "             'num_access_files', 'num_outbound_cmds', 'is_host_login', \n",
    "             'is_guest_login', 'count', 'srv_count', 'serror_rate', \n",
    "             'srv_serror_rate', 'rerror_rate', 'srv_rerror_rate', \n",
    "             'same_srv_rate', 'diff_srv_rate', 'srv_diff_host_rate', \n",
    "             'dst_host_count', 'dst_host_srv_count', 'dst_host_same_srv_rate', \n",
    "             'dst_host_diff_srv_rate', 'dst_host_same_src_port_rate',\n",
    "             'dst_host_srv_diff_host_rate', 'dst_host_serror_rate', \n",
    "             'dst_host_srv_serror_rate', 'dst_host_rerror_rate', \n",
    "             'dst_host_srv_rerror_rate']\n",
    "data = pd.read_csv('./PCAPTest.csv',\n",
    "                  header=None, names=col_names, low_memory=False)\n",
    "df = data.dropna()\n",
    "df.head(10)"
   ]
  },
  {
   "cell_type": "code",
   "execution_count": 11,
   "id": "09c7a85a",
   "metadata": {},
   "outputs": [
    {
     "data": {
      "text/html": [
       "<div>\n",
       "<style scoped>\n",
       "    .dataframe tbody tr th:only-of-type {\n",
       "        vertical-align: middle;\n",
       "    }\n",
       "\n",
       "    .dataframe tbody tr th {\n",
       "        vertical-align: top;\n",
       "    }\n",
       "\n",
       "    .dataframe thead th {\n",
       "        text-align: right;\n",
       "    }\n",
       "</style>\n",
       "<table border=\"1\" class=\"dataframe\">\n",
       "  <thead>\n",
       "    <tr style=\"text-align: right;\">\n",
       "      <th></th>\n",
       "      <th>duration</th>\n",
       "      <th>protocol_type</th>\n",
       "      <th>service</th>\n",
       "      <th>flag</th>\n",
       "      <th>src_bytes</th>\n",
       "      <th>dst_bytes</th>\n",
       "      <th>land</th>\n",
       "      <th>wrong_fragment</th>\n",
       "      <th>urgent</th>\n",
       "      <th>hot</th>\n",
       "      <th>...</th>\n",
       "      <th>dst_host_count</th>\n",
       "      <th>dst_host_srv_count</th>\n",
       "      <th>dst_host_same_srv_rate</th>\n",
       "      <th>dst_host_diff_srv_rate</th>\n",
       "      <th>dst_host_same_src_port_rate</th>\n",
       "      <th>dst_host_srv_diff_host_rate</th>\n",
       "      <th>dst_host_serror_rate</th>\n",
       "      <th>dst_host_srv_serror_rate</th>\n",
       "      <th>dst_host_rerror_rate</th>\n",
       "      <th>dst_host_srv_rerror_rate</th>\n",
       "    </tr>\n",
       "  </thead>\n",
       "  <tbody>\n",
       "    <tr>\n",
       "      <th>NaN</th>\n",
       "      <td>0</td>\n",
       "      <td>0</td>\n",
       "      <td>0</td>\n",
       "      <td>0</td>\n",
       "      <td>105</td>\n",
       "      <td>146</td>\n",
       "      <td>0.1</td>\n",
       "      <td>0.2</td>\n",
       "      <td>0.3</td>\n",
       "      <td>0.4</td>\n",
       "      <td>...</td>\n",
       "      <td>1.2</td>\n",
       "      <td>1.3</td>\n",
       "      <td>1.00.1</td>\n",
       "      <td>0.00.6</td>\n",
       "      <td>1.00.2</td>\n",
       "      <td>0.00.7</td>\n",
       "      <td>0.00.8</td>\n",
       "      <td>0.00.9</td>\n",
       "      <td>0.00.10</td>\n",
       "      <td>0.00.11</td>\n",
       "    </tr>\n",
       "    <tr>\n",
       "      <th>0.0</th>\n",
       "      <td>0</td>\n",
       "      <td>0</td>\n",
       "      <td>0</td>\n",
       "      <td>0</td>\n",
       "      <td>105</td>\n",
       "      <td>146</td>\n",
       "      <td>0.0</td>\n",
       "      <td>0.0</td>\n",
       "      <td>0.0</td>\n",
       "      <td>0.0</td>\n",
       "      <td>...</td>\n",
       "      <td>255.0</td>\n",
       "      <td>254.0</td>\n",
       "      <td>1.0</td>\n",
       "      <td>0.01</td>\n",
       "      <td>0.0</td>\n",
       "      <td>0.0</td>\n",
       "      <td>0.0</td>\n",
       "      <td>0.0</td>\n",
       "      <td>0.0</td>\n",
       "      <td>0.0</td>\n",
       "    </tr>\n",
       "    <tr>\n",
       "      <th>1.0</th>\n",
       "      <td>0</td>\n",
       "      <td>0</td>\n",
       "      <td>0</td>\n",
       "      <td>0</td>\n",
       "      <td>105</td>\n",
       "      <td>146</td>\n",
       "      <td>0.0</td>\n",
       "      <td>0.0</td>\n",
       "      <td>0.0</td>\n",
       "      <td>0.0</td>\n",
       "      <td>...</td>\n",
       "      <td>255.0</td>\n",
       "      <td>254.0</td>\n",
       "      <td>1.0</td>\n",
       "      <td>0.01</td>\n",
       "      <td>0.0</td>\n",
       "      <td>0.0</td>\n",
       "      <td>0.0</td>\n",
       "      <td>0.0</td>\n",
       "      <td>0.0</td>\n",
       "      <td>0.0</td>\n",
       "    </tr>\n",
       "    <tr>\n",
       "      <th>2.0</th>\n",
       "      <td>0</td>\n",
       "      <td>0</td>\n",
       "      <td>0</td>\n",
       "      <td>0</td>\n",
       "      <td>105</td>\n",
       "      <td>146</td>\n",
       "      <td>0.0</td>\n",
       "      <td>0.0</td>\n",
       "      <td>0.0</td>\n",
       "      <td>0.0</td>\n",
       "      <td>...</td>\n",
       "      <td>255.0</td>\n",
       "      <td>254.0</td>\n",
       "      <td>1.0</td>\n",
       "      <td>0.01</td>\n",
       "      <td>0.0</td>\n",
       "      <td>0.0</td>\n",
       "      <td>0.0</td>\n",
       "      <td>0.0</td>\n",
       "      <td>0.0</td>\n",
       "      <td>0.0</td>\n",
       "    </tr>\n",
       "    <tr>\n",
       "      <th>3.0</th>\n",
       "      <td>0</td>\n",
       "      <td>0</td>\n",
       "      <td>0</td>\n",
       "      <td>0</td>\n",
       "      <td>105</td>\n",
       "      <td>146</td>\n",
       "      <td>0.0</td>\n",
       "      <td>0.0</td>\n",
       "      <td>0.0</td>\n",
       "      <td>0.0</td>\n",
       "      <td>...</td>\n",
       "      <td>255.0</td>\n",
       "      <td>254.0</td>\n",
       "      <td>1.0</td>\n",
       "      <td>0.01</td>\n",
       "      <td>0.01</td>\n",
       "      <td>0.0</td>\n",
       "      <td>0.0</td>\n",
       "      <td>0.0</td>\n",
       "      <td>0.0</td>\n",
       "      <td>0.0</td>\n",
       "    </tr>\n",
       "  </tbody>\n",
       "</table>\n",
       "<p>5 rows × 41 columns</p>\n",
       "</div>"
      ],
      "text/plain": [
       "     duration protocol_type service flag  src_bytes  dst_bytes  land  \\\n",
       "NaN         0             0       0    0        105        146   0.1   \n",
       "0.0         0             0       0    0        105        146   0.0   \n",
       "1.0         0             0       0    0        105        146   0.0   \n",
       "2.0         0             0       0    0        105        146   0.0   \n",
       "3.0         0             0       0    0        105        146   0.0   \n",
       "\n",
       "     wrong_fragment  urgent  hot  ...  dst_host_count  dst_host_srv_count  \\\n",
       "NaN             0.2     0.3  0.4  ...             1.2                 1.3   \n",
       "0.0             0.0     0.0  0.0  ...           255.0               254.0   \n",
       "1.0             0.0     0.0  0.0  ...           255.0               254.0   \n",
       "2.0             0.0     0.0  0.0  ...           255.0               254.0   \n",
       "3.0             0.0     0.0  0.0  ...           255.0               254.0   \n",
       "\n",
       "     dst_host_same_srv_rate  dst_host_diff_srv_rate  \\\n",
       "NaN                  1.00.1                  0.00.6   \n",
       "0.0                     1.0                    0.01   \n",
       "1.0                     1.0                    0.01   \n",
       "2.0                     1.0                    0.01   \n",
       "3.0                     1.0                    0.01   \n",
       "\n",
       "     dst_host_same_src_port_rate  dst_host_srv_diff_host_rate  \\\n",
       "NaN                       1.00.2                       0.00.7   \n",
       "0.0                          0.0                          0.0   \n",
       "1.0                          0.0                          0.0   \n",
       "2.0                          0.0                          0.0   \n",
       "3.0                         0.01                          0.0   \n",
       "\n",
       "     dst_host_serror_rate  dst_host_srv_serror_rate  dst_host_rerror_rate  \\\n",
       "NaN                0.00.8                    0.00.9               0.00.10   \n",
       "0.0                   0.0                       0.0                   0.0   \n",
       "1.0                   0.0                       0.0                   0.0   \n",
       "2.0                   0.0                       0.0                   0.0   \n",
       "3.0                   0.0                       0.0                   0.0   \n",
       "\n",
       "     dst_host_srv_rerror_rate  \n",
       "NaN                   0.00.11  \n",
       "0.0                       0.0  \n",
       "1.0                       0.0  \n",
       "2.0                       0.0  \n",
       "3.0                       0.0  \n",
       "\n",
       "[5 rows x 41 columns]"
      ]
     },
     "execution_count": 11,
     "metadata": {},
     "output_type": "execute_result"
    }
   ],
   "source": [
    "df['protocol_type'] = df['protocol_type'].replace('udp', '0')\n",
    "df['protocol_type'] = df['protocol_type'].replace('tcp', '1')\n",
    "df['protocol_type'] = df['protocol_type'].replace('icmp', '2')\n",
    "\n",
    "df['service'] = df['service'].replace('private', '0')\n",
    "df['service'] = df['service'].replace('domain_u', '1')\n",
    "df['service'] = df['service'].replace('http', '2')\n",
    "df['service'] = df['service'].replace('smtp', '3')\n",
    "df['service'] = df['service'].replace('ftp_data', '4')\n",
    "df['service'] = df['service'].replace('ftp', '5')\n",
    "df['service'] = df['service'].replace('eco_i', '6')\n",
    "df['service'] = df['service'].replace('other', '7')\n",
    "df['service'] = df['service'].replace('auth', '8')\n",
    "df['service'] = df['service'].replace('ecr_i', '9')\n",
    "df['service'] = df['service'].replace('IRC', '10')\n",
    "df['service'] = df['service'].replace('X11', '11')\n",
    "df['service'] = df['service'].replace('finger', '12')\n",
    "df['service'] = df['service'].replace('time', '13')\n",
    "df['service'] = df['service'].replace('domain', '14')\n",
    "df['service'] = df['service'].replace('telnet', '15')\n",
    "df['service'] = df['service'].replace('pop_3', '16')\n",
    "df['service'] = df['service'].replace('ldap', '17')\n",
    "df['service'] = df['service'].replace('login', '18')\n",
    "df['service'] = df['service'].replace('name', '19')\n",
    "df['service'] = df['service'].replace('ntp_u', '20')\n",
    "df['service'] = df['service'].replace('http_443', '21')\n",
    "df['service'] = df['service'].replace('sunrpc', '22')\n",
    "df['service'] = df['service'].replace('printer', '23')\n",
    "df['service'] = df['service'].replace('systat', '24')\n",
    "df['service'] = df['service'].replace('tim_i', '25')\n",
    "df['service'] = df['service'].replace('netstat', '26')\n",
    "df['service'] = df['service'].replace('remote_job', '27')\n",
    "df['service'] = df['service'].replace('link', '28')\n",
    "df['service'] = df['service'].replace('urp_i', '29')\n",
    "df['service'] = df['service'].replace('sql_net', '30')\n",
    "df['service'] = df['service'].replace('bgp', '31')\n",
    "df['service'] = df['service'].replace('pop_2', '32')\n",
    "df['service'] = df['service'].replace('tftp_u', '33')\n",
    "df['service'] = df['service'].replace('uucp', '34')\n",
    "df['service'] = df['service'].replace('imap4', '35')\n",
    "df['service'] = df['service'].replace('pm_dump', '36')\n",
    "df['service'] = df['service'].replace('nnsp', '37')\n",
    "df['service'] = df['service'].replace('courier', '38')\n",
    "df['service'] = df['service'].replace('daytime', '39')\n",
    "df['service'] = df['service'].replace('iso_tsap', '40')\n",
    "df['service'] = df['service'].replace('echo', '41')\n",
    "df['service'] = df['service'].replace('discard', '42')\n",
    "df['service'] = df['service'].replace('ssh', '43')\n",
    "df['service'] = df['service'].replace('whois', '44')\n",
    "df['service'] = df['service'].replace('mtp', '45')\n",
    "df['service'] = df['service'].replace('gopher', '46')\n",
    "df['service'] = df['service'].replace('rje', '47')\n",
    "df['service'] = df['service'].replace('ctf', '48')\n",
    "df['service'] = df['service'].replace('supdup', '49')\n",
    "df['service'] = df['service'].replace('hostnames', '50')\n",
    "df['service'] = df['service'].replace('csnet_ns', '51')\n",
    "df['service'] = df['service'].replace('uucp_path', '52')\n",
    "df['service'] = df['service'].replace('nntp', '53')\n",
    "df['service'] = df['service'].replace('netbios_ns', '54')\n",
    "df['service'] = df['service'].replace('netbios_dgm', '55')\n",
    "df['service'] = df['service'].replace('netbios_ssn', '56')\n",
    "df['service'] = df['service'].replace('vmnet', '57')\n",
    "df['service'] = df['service'].replace('Z39_50', '58')\n",
    "df['service'] = df['service'].replace('exec', '59')\n",
    "df['service'] = df['service'].replace('shell', '60')\n",
    "df['service'] = df['service'].replace('efs', '61')\n",
    "df['service'] = df['service'].replace('klogin', '62')\n",
    "df['service'] = df['service'].replace('kshell', '63')\n",
    "df['service'] = df['service'].replace('icmp', '64')\n",
    "#df['service'] = df['service'].replace('harvest', '64')\n",
    "#df['service'] = df['service'].replace('http_2784', '64')\n",
    "#df['service'] = df['service'].replace('http_8001', '64')\n",
    "#df['service'] = df['service'].replace('urh_i', '64')\n",
    "#df['service'] = df['service'].replace('aol', '64')\n",
    "df = df[df.service != 'harvest']\n",
    "df = df[df.service != 'http_2784']\n",
    "df = df[df.service != 'http_8001']\n",
    "df = df[df.service != 'urh_i']\n",
    "df = df[df.service != 'aol']\n",
    "df['flag'] = df['flag'].replace('SF', '0')\n",
    "df['flag'] = df['flag'].replace('SH', '1')\n",
    "df['flag'] = df['flag'].replace('RSTR', '2')\n",
    "df['flag'] = df['flag'].replace('REJ', '3')\n",
    "df['flag'] = df['flag'].replace('S0', '4')\n",
    "df['flag'] = df['flag'].replace('S1', '5')\n",
    "df['flag'] = df['flag'].replace('S2', '6')\n",
    "df['flag'] = df['flag'].replace('S3', '7')\n",
    "df['flag'] = df['flag'].replace('RSTO', '8')\n",
    "df['flag'] = df['flag'].replace('RSTOS0', '9')\n",
    "df['flag'] = df['flag'].replace('OTH', '10')\n",
    "\n",
    "df.head()"
   ]
  },
  {
   "cell_type": "code",
   "execution_count": 12,
   "id": "c4503f26",
   "metadata": {},
   "outputs": [
    {
     "name": "stdout",
     "output_type": "stream",
     "text": [
      "<class 'pandas.core.frame.DataFrame'>\n",
      "Float64Index: 2984143 entries, 1.0 to 2984152.0\n",
      "Data columns (total 41 columns):\n",
      " #   Column                       Dtype  \n",
      "---  ------                       -----  \n",
      " 0   duration                     int64  \n",
      " 1   protocol_type                int64  \n",
      " 2   service                      int64  \n",
      " 3   flag                         int64  \n",
      " 4   src_bytes                    int64  \n",
      " 5   dst_bytes                    int64  \n",
      " 6   land                         float64\n",
      " 7   wrong_fragment               float64\n",
      " 8   urgent                       float64\n",
      " 9   hot                          float64\n",
      " 10  num_failed_logins            float64\n",
      " 11  logged_in                    float64\n",
      " 12  num_compromised              float64\n",
      " 13  root_shell                   float64\n",
      " 14  su_attempted                 float64\n",
      " 15  num_root                     float64\n",
      " 16  num_file_creations           float64\n",
      " 17  num_shells                   float64\n",
      " 18  num_access_files             float64\n",
      " 19  num_outbound_cmds            float64\n",
      " 20  is_host_login                float64\n",
      " 21  is_guest_login               float64\n",
      " 22  count                        int64  \n",
      " 23  srv_count                    float64\n",
      " 24  serror_rate                  float64\n",
      " 25  srv_serror_rate              float64\n",
      " 26  rerror_rate                  float64\n",
      " 27  srv_rerror_rate              float64\n",
      " 28  same_srv_rate                float64\n",
      " 29  diff_srv_rate                float64\n",
      " 30  srv_diff_host_rate           float64\n",
      " 31  dst_host_count               float64\n",
      " 32  dst_host_srv_count           float64\n",
      " 33  dst_host_same_srv_rate       float64\n",
      " 34  dst_host_diff_srv_rate       float64\n",
      " 35  dst_host_same_src_port_rate  float64\n",
      " 36  dst_host_srv_diff_host_rate  float64\n",
      " 37  dst_host_serror_rate         float64\n",
      " 38  dst_host_srv_serror_rate     float64\n",
      " 39  dst_host_rerror_rate         float64\n",
      " 40  dst_host_srv_rerror_rate     float64\n",
      "dtypes: float64(34), int64(7)\n",
      "memory usage: 956.2 MB\n"
     ]
    }
   ],
   "source": [
    "df = df.drop(df.index[:2])\n",
    "\n",
    "df[\"protocol_type\"] = pd.to_numeric(df[\"protocol_type\"])\n",
    "df[\"service\"] = pd.to_numeric(df[\"service\"])\n",
    "df[\"flag\"]= pd.to_numeric(df[\"flag\"])\n",
    "df[\"dst_host_srv_rerror_rate\"]= pd.to_numeric(df[\"dst_host_srv_rerror_rate\"])\n",
    "df[\"dst_host_rerror_rate\"]= pd.to_numeric(df[\"dst_host_rerror_rate\"])\n",
    "df[\"dst_host_srv_serror_rate\"]= pd.to_numeric(df[\"dst_host_srv_serror_rate\"])\n",
    "df[\"dst_host_serror_rate\"]= pd.to_numeric(df[\"dst_host_serror_rate\"])\n",
    "df[\"dst_host_srv_diff_host_rate\"]= pd.to_numeric(df[\"dst_host_srv_diff_host_rate\"])\n",
    "df[\"dst_host_same_src_port_rate\"]= pd.to_numeric(df[\"dst_host_same_src_port_rate\"])\n",
    "df[\"dst_host_diff_srv_rate\"]= pd.to_numeric(df[\"dst_host_diff_srv_rate\"])\n",
    "df[\"dst_host_same_srv_rate\"]= pd.to_numeric(df[\"dst_host_same_srv_rate\"])\n",
    "df[\"srv_diff_host_rate\"]= pd.to_numeric(df[\"srv_diff_host_rate\"])\n",
    "df[\"diff_srv_rate\"]= pd.to_numeric(df[\"diff_srv_rate\"])\n",
    "df[\"srv_rerror_rate\"]= pd.to_numeric(df[\"srv_rerror_rate\"])\n",
    "df[\"rerror_rate\"]= pd.to_numeric(df[\"rerror_rate\"])\n",
    "df[\"srv_serror_rate\"]= pd.to_numeric(df[\"srv_serror_rate\"])\n",
    "\n",
    "df.info()"
   ]
  },
  {
   "cell_type": "markdown",
   "id": "5c6bcfa4",
   "metadata": {},
   "source": [
    "### 1. Random Forest Classifier"
   ]
  },
  {
   "cell_type": "code",
   "execution_count": 13,
   "id": "276f39d7",
   "metadata": {},
   "outputs": [
    {
     "data": {
      "text/html": [
       "<style>#sk-container-id-1 {color: black;background-color: white;}#sk-container-id-1 pre{padding: 0;}#sk-container-id-1 div.sk-toggleable {background-color: white;}#sk-container-id-1 label.sk-toggleable__label {cursor: pointer;display: block;width: 100%;margin-bottom: 0;padding: 0.3em;box-sizing: border-box;text-align: center;}#sk-container-id-1 label.sk-toggleable__label-arrow:before {content: \"▸\";float: left;margin-right: 0.25em;color: #696969;}#sk-container-id-1 label.sk-toggleable__label-arrow:hover:before {color: black;}#sk-container-id-1 div.sk-estimator:hover label.sk-toggleable__label-arrow:before {color: black;}#sk-container-id-1 div.sk-toggleable__content {max-height: 0;max-width: 0;overflow: hidden;text-align: left;background-color: #f0f8ff;}#sk-container-id-1 div.sk-toggleable__content pre {margin: 0.2em;color: black;border-radius: 0.25em;background-color: #f0f8ff;}#sk-container-id-1 input.sk-toggleable__control:checked~div.sk-toggleable__content {max-height: 200px;max-width: 100%;overflow: auto;}#sk-container-id-1 input.sk-toggleable__control:checked~label.sk-toggleable__label-arrow:before {content: \"▾\";}#sk-container-id-1 div.sk-estimator input.sk-toggleable__control:checked~label.sk-toggleable__label {background-color: #d4ebff;}#sk-container-id-1 div.sk-label input.sk-toggleable__control:checked~label.sk-toggleable__label {background-color: #d4ebff;}#sk-container-id-1 input.sk-hidden--visually {border: 0;clip: rect(1px 1px 1px 1px);clip: rect(1px, 1px, 1px, 1px);height: 1px;margin: -1px;overflow: hidden;padding: 0;position: absolute;width: 1px;}#sk-container-id-1 div.sk-estimator {font-family: monospace;background-color: #f0f8ff;border: 1px dotted black;border-radius: 0.25em;box-sizing: border-box;margin-bottom: 0.5em;}#sk-container-id-1 div.sk-estimator:hover {background-color: #d4ebff;}#sk-container-id-1 div.sk-parallel-item::after {content: \"\";width: 100%;border-bottom: 1px solid gray;flex-grow: 1;}#sk-container-id-1 div.sk-label:hover label.sk-toggleable__label {background-color: #d4ebff;}#sk-container-id-1 div.sk-serial::before {content: \"\";position: absolute;border-left: 1px solid gray;box-sizing: border-box;top: 0;bottom: 0;left: 50%;z-index: 0;}#sk-container-id-1 div.sk-serial {display: flex;flex-direction: column;align-items: center;background-color: white;padding-right: 0.2em;padding-left: 0.2em;position: relative;}#sk-container-id-1 div.sk-item {position: relative;z-index: 1;}#sk-container-id-1 div.sk-parallel {display: flex;align-items: stretch;justify-content: center;background-color: white;position: relative;}#sk-container-id-1 div.sk-item::before, #sk-container-id-1 div.sk-parallel-item::before {content: \"\";position: absolute;border-left: 1px solid gray;box-sizing: border-box;top: 0;bottom: 0;left: 50%;z-index: -1;}#sk-container-id-1 div.sk-parallel-item {display: flex;flex-direction: column;z-index: 1;position: relative;background-color: white;}#sk-container-id-1 div.sk-parallel-item:first-child::after {align-self: flex-end;width: 50%;}#sk-container-id-1 div.sk-parallel-item:last-child::after {align-self: flex-start;width: 50%;}#sk-container-id-1 div.sk-parallel-item:only-child::after {width: 0;}#sk-container-id-1 div.sk-dashed-wrapped {border: 1px dashed gray;margin: 0 0.4em 0.5em 0.4em;box-sizing: border-box;padding-bottom: 0.4em;background-color: white;}#sk-container-id-1 div.sk-label label {font-family: monospace;font-weight: bold;display: inline-block;line-height: 1.2em;}#sk-container-id-1 div.sk-label-container {text-align: center;}#sk-container-id-1 div.sk-container {/* jupyter's `normalize.less` sets `[hidden] { display: none; }` but bootstrap.min.css set `[hidden] { display: none !important; }` so we also need the `!important` here to be able to override the default hidden behavior on the sphinx rendered scikit-learn.org. See: https://github.com/scikit-learn/scikit-learn/issues/21755 */display: inline-block !important;position: relative;}#sk-container-id-1 div.sk-text-repr-fallback {display: none;}</style><div id=\"sk-container-id-1\" class=\"sk-top-container\"><div class=\"sk-text-repr-fallback\"><pre>RandomForestClassifier(max_depth=20, n_estimators=20, random_state=0)</pre><b>In a Jupyter environment, please rerun this cell to show the HTML representation or trust the notebook. <br />On GitHub, the HTML representation is unable to render, please try loading this page with nbviewer.org.</b></div><div class=\"sk-container\" hidden><div class=\"sk-item\"><div class=\"sk-estimator sk-toggleable\"><input class=\"sk-toggleable__control sk-hidden--visually\" id=\"sk-estimator-id-1\" type=\"checkbox\" checked><label for=\"sk-estimator-id-1\" class=\"sk-toggleable__label sk-toggleable__label-arrow\">RandomForestClassifier</label><div class=\"sk-toggleable__content\"><pre>RandomForestClassifier(max_depth=20, n_estimators=20, random_state=0)</pre></div></div></div></div></div>"
      ],
      "text/plain": [
       "RandomForestClassifier(max_depth=20, n_estimators=20, random_state=0)"
      ]
     },
     "execution_count": 13,
     "metadata": {},
     "output_type": "execute_result"
    }
   ],
   "source": [
    "#Random Forest Classifier\n",
    "import pandas as pd\n",
    "import numpy as np\n",
    "import pickle as p\n",
    "from sklearn.preprocessing import Normalizer\n",
    "from sklearn.model_selection import train_test_split\n",
    "from sklearn.ensemble import RandomForestClassifier\n",
    "from sklearn import metrics\n",
    "\n",
    "X = pd.read_csv('./train_data.csv')\n",
    "y = pd.read_csv('./train_label.csv')\n",
    "\n",
    "#Normalizes the data of each row to fit it into a range of 0-1\n",
    "scaler = Normalizer().fit(X)\n",
    "x = scaler.transform(X)\n",
    "\n",
    "X_train, X_test, y_train, y_test = train_test_split(x, y, test_size=0.1, \n",
    "                                                    random_state=0)\n",
    "y_train = np.array(y_train)\n",
    "\n",
    "#n_estimators denotes the number of decision trees to be derived\n",
    "#max_depth denotes the depth of the trees.\n",
    "#random_states controls the randomness of the bootstrapping of the samples used when building trees\n",
    "model = RandomForestClassifier(n_estimators=20, max_depth=20, random_state=0)\n",
    "model.fit(X_train, y_train)"
   ]
  },
  {
   "cell_type": "code",
   "execution_count": 14,
   "id": "0bbccc98",
   "metadata": {},
   "outputs": [
    {
     "name": "stdout",
     "output_type": "stream",
     "text": [
      "Accuracy = 0.9795442671703573\n",
      "Confusion Matrix =\n",
      " [[ 4586     0     3   281     0]\n",
      " [    0 17982     0     1     0]\n",
      " [    0     1   329     0     0]\n",
      " [  222     0     0  1473     0]\n",
      " [    1     0     0     0     4]]\n",
      "Recall = 0.9795442671703573\n",
      "Classification Report =\n",
      "               precision    recall  f1-score   support\n",
      "\n",
      "           0       0.95      0.94      0.95      4870\n",
      "           1       1.00      1.00      1.00     17983\n",
      "           2       0.99      1.00      0.99       330\n",
      "           3       0.84      0.87      0.85      1695\n",
      "           4       1.00      0.80      0.89         5\n",
      "\n",
      "    accuracy                           0.98     24883\n",
      "   macro avg       0.96      0.92      0.94     24883\n",
      "weighted avg       0.98      0.98      0.98     24883\n",
      "\n"
     ]
    }
   ],
   "source": [
    "y_pred = model.predict(X_test)\n",
    "\n",
    "print(\"Accuracy =\", metrics.accuracy_score(y_test, y_pred))\n",
    "print(\"Confusion Matrix =\\n\", metrics.confusion_matrix(y_test, y_pred, labels=None, \n",
    "                                              sample_weight=None))\n",
    "print(\"Recall =\", metrics.recall_score(y_test, y_pred, labels=None, \n",
    "                                             pos_label=1, average='weighted', \n",
    "                                             sample_weight=None))\n",
    "print(\"Classification Report =\\n\", metrics.classification_report(y_test, y_pred, \n",
    "                                                                 labels=None, \n",
    "                                                                 target_names=None, \n",
    "                                                                 sample_weight=None, \n",
    "                                                                 digits=2, \n",
    "                                                                 output_dict=False))"
   ]
  },
  {
   "cell_type": "code",
   "execution_count": 15,
   "id": "fe2f3863",
   "metadata": {},
   "outputs": [
    {
     "name": "stdout",
     "output_type": "stream",
     "text": [
      "Requirement already satisfied: scikit-plot in c:\\users\\jayka\\anaconda3\\lib\\site-packages (0.3.7)\n",
      "Requirement already satisfied: scipy>=0.9 in c:\\users\\jayka\\anaconda3\\lib\\site-packages (from scikit-plot) (1.9.2)\n",
      "Requirement already satisfied: matplotlib>=1.4.0 in c:\\users\\jayka\\anaconda3\\lib\\site-packages (from scikit-plot) (3.5.2)\n",
      "Requirement already satisfied: scikit-learn>=0.18 in c:\\users\\jayka\\anaconda3\\lib\\site-packages (from scikit-plot) (1.1.2)\n",
      "Requirement already satisfied: joblib>=0.10 in c:\\users\\jayka\\anaconda3\\lib\\site-packages (from scikit-plot) (1.2.0)\n",
      "Requirement already satisfied: fonttools>=4.22.0 in c:\\users\\jayka\\anaconda3\\lib\\site-packages (from matplotlib>=1.4.0->scikit-plot) (4.33.3)\n",
      "Requirement already satisfied: numpy>=1.17 in c:\\users\\jayka\\anaconda3\\lib\\site-packages (from matplotlib>=1.4.0->scikit-plot) (1.22.4)\n",
      "Requirement already satisfied: kiwisolver>=1.0.1 in c:\\users\\jayka\\anaconda3\\lib\\site-packages (from matplotlib>=1.4.0->scikit-plot) (1.4.2)\n",
      "Requirement already satisfied: packaging>=20.0 in c:\\users\\jayka\\anaconda3\\lib\\site-packages (from matplotlib>=1.4.0->scikit-plot) (21.3)\n",
      "Requirement already satisfied: cycler>=0.10 in c:\\users\\jayka\\anaconda3\\lib\\site-packages (from matplotlib>=1.4.0->scikit-plot) (0.11.0)\n",
      "Requirement already satisfied: pyparsing>=2.2.1 in c:\\users\\jayka\\anaconda3\\lib\\site-packages (from matplotlib>=1.4.0->scikit-plot) (3.0.4)\n",
      "Requirement already satisfied: pillow>=6.2.0 in c:\\users\\jayka\\anaconda3\\lib\\site-packages (from matplotlib>=1.4.0->scikit-plot) (9.0.1)\n",
      "Requirement already satisfied: python-dateutil>=2.7 in c:\\users\\jayka\\anaconda3\\lib\\site-packages (from matplotlib>=1.4.0->scikit-plot) (2.8.2)\n",
      "Requirement already satisfied: six>=1.5 in c:\\users\\jayka\\anaconda3\\lib\\site-packages (from python-dateutil>=2.7->matplotlib>=1.4.0->scikit-plot) (1.16.0)\n",
      "Requirement already satisfied: threadpoolctl>=2.0.0 in c:\\users\\jayka\\anaconda3\\lib\\site-packages (from scikit-learn>=0.18->scikit-plot) (3.1.0)\n"
     ]
    }
   ],
   "source": [
    "!pip install scikit-plot"
   ]
  },
  {
   "cell_type": "code",
   "execution_count": 16,
   "id": "a0834e7a",
   "metadata": {},
   "outputs": [
    {
     "data": {
      "text/plain": [
       "<AxesSubplot:title={'center':'Confusion Matrix'}, xlabel='Predicted label', ylabel='True label'>"
      ]
     },
     "execution_count": 16,
     "metadata": {},
     "output_type": "execute_result"
    },
    {
     "data": {
      "image/png": "[encoded data removed]",
      "text/plain": [
       "<Figure size 576x576 with 2 Axes>"
      ]
     },
     "metadata": {
      "needs_background": "light"
     },
     "output_type": "display_data"
    }
   ],
   "source": [
    "import scikitplot as skplt\n",
    "\n",
    "skplt.metrics.plot_confusion_matrix(\n",
    "    y_test, \n",
    "    y_pred,\n",
    "    figsize=(8,8))"
   ]
  },
  {
   "cell_type": "code",
   "execution_count": 17,
   "id": "f6c27699",
   "metadata": {},
   "outputs": [],
   "source": [
    "file = \"./randomForest.pkl\"\n",
    "with open(file, \"wb\") as f:\n",
    "    p.dump(model, f)"
   ]
  },
  {
   "cell_type": "markdown",
   "id": "1a2ff24a",
   "metadata": {},
   "source": [
    "### 2. Gaussian Naive Bayes Algorithm"
   ]
  },
  {
   "cell_type": "code",
   "execution_count": 18,
   "id": "440a85bc",
   "metadata": {},
   "outputs": [],
   "source": [
    "# Naive Bayes Algorithm\n",
    "from sklearn.naive_bayes import GaussianNB"
   ]
  },
  {
   "cell_type": "code",
   "execution_count": 19,
   "id": "a9b84a6e",
   "metadata": {},
   "outputs": [],
   "source": [
    "X = pd.read_csv('./train_data.csv')\n",
    "y = pd.read_csv('./train_label.csv')\n",
    "X_train, X_test, y_train, y_test = train_test_split(x, y, test_size=0.1, \n",
    "                                                    random_state=0)\n",
    "y_train = np.array(y_train)"
   ]
  },
  {
   "cell_type": "code",
   "execution_count": 20,
   "id": "17a72d40",
   "metadata": {},
   "outputs": [
    {
     "data": {
      "text/html": [
       "<style>#sk-container-id-2 {color: black;background-color: white;}#sk-container-id-2 pre{padding: 0;}#sk-container-id-2 div.sk-toggleable {background-color: white;}#sk-container-id-2 label.sk-toggleable__label {cursor: pointer;display: block;width: 100%;margin-bottom: 0;padding: 0.3em;box-sizing: border-box;text-align: center;}#sk-container-id-2 label.sk-toggleable__label-arrow:before {content: \"▸\";float: left;margin-right: 0.25em;color: #696969;}#sk-container-id-2 label.sk-toggleable__label-arrow:hover:before {color: black;}#sk-container-id-2 div.sk-estimator:hover label.sk-toggleable__label-arrow:before {color: black;}#sk-container-id-2 div.sk-toggleable__content {max-height: 0;max-width: 0;overflow: hidden;text-align: left;background-color: #f0f8ff;}#sk-container-id-2 div.sk-toggleable__content pre {margin: 0.2em;color: black;border-radius: 0.25em;background-color: #f0f8ff;}#sk-container-id-2 input.sk-toggleable__control:checked~div.sk-toggleable__content {max-height: 200px;max-width: 100%;overflow: auto;}#sk-container-id-2 input.sk-toggleable__control:checked~label.sk-toggleable__label-arrow:before {content: \"▾\";}#sk-container-id-2 div.sk-estimator input.sk-toggleable__control:checked~label.sk-toggleable__label {background-color: #d4ebff;}#sk-container-id-2 div.sk-label input.sk-toggleable__control:checked~label.sk-toggleable__label {background-color: #d4ebff;}#sk-container-id-2 input.sk-hidden--visually {border: 0;clip: rect(1px 1px 1px 1px);clip: rect(1px, 1px, 1px, 1px);height: 1px;margin: -1px;overflow: hidden;padding: 0;position: absolute;width: 1px;}#sk-container-id-2 div.sk-estimator {font-family: monospace;background-color: #f0f8ff;border: 1px dotted black;border-radius: 0.25em;box-sizing: border-box;margin-bottom: 0.5em;}#sk-container-id-2 div.sk-estimator:hover {background-color: #d4ebff;}#sk-container-id-2 div.sk-parallel-item::after {content: \"\";width: 100%;border-bottom: 1px solid gray;flex-grow: 1;}#sk-container-id-2 div.sk-label:hover label.sk-toggleable__label {background-color: #d4ebff;}#sk-container-id-2 div.sk-serial::before {content: \"\";position: absolute;border-left: 1px solid gray;box-sizing: border-box;top: 0;bottom: 0;left: 50%;z-index: 0;}#sk-container-id-2 div.sk-serial {display: flex;flex-direction: column;align-items: center;background-color: white;padding-right: 0.2em;padding-left: 0.2em;position: relative;}#sk-container-id-2 div.sk-item {position: relative;z-index: 1;}#sk-container-id-2 div.sk-parallel {display: flex;align-items: stretch;justify-content: center;background-color: white;position: relative;}#sk-container-id-2 div.sk-item::before, #sk-container-id-2 div.sk-parallel-item::before {content: \"\";position: absolute;border-left: 1px solid gray;box-sizing: border-box;top: 0;bottom: 0;left: 50%;z-index: -1;}#sk-container-id-2 div.sk-parallel-item {display: flex;flex-direction: column;z-index: 1;position: relative;background-color: white;}#sk-container-id-2 div.sk-parallel-item:first-child::after {align-self: flex-end;width: 50%;}#sk-container-id-2 div.sk-parallel-item:last-child::after {align-self: flex-start;width: 50%;}#sk-container-id-2 div.sk-parallel-item:only-child::after {width: 0;}#sk-container-id-2 div.sk-dashed-wrapped {border: 1px dashed gray;margin: 0 0.4em 0.5em 0.4em;box-sizing: border-box;padding-bottom: 0.4em;background-color: white;}#sk-container-id-2 div.sk-label label {font-family: monospace;font-weight: bold;display: inline-block;line-height: 1.2em;}#sk-container-id-2 div.sk-label-container {text-align: center;}#sk-container-id-2 div.sk-container {/* jupyter's `normalize.less` sets `[hidden] { display: none; }` but bootstrap.min.css set `[hidden] { display: none !important; }` so we also need the `!important` here to be able to override the default hidden behavior on the sphinx rendered scikit-learn.org. See: https://github.com/scikit-learn/scikit-learn/issues/21755 */display: inline-block !important;position: relative;}#sk-container-id-2 div.sk-text-repr-fallback {display: none;}</style><div id=\"sk-container-id-2\" class=\"sk-top-container\"><div class=\"sk-text-repr-fallback\"><pre>GaussianNB()</pre><b>In a Jupyter environment, please rerun this cell to show the HTML representation or trust the notebook. <br />On GitHub, the HTML representation is unable to render, please try loading this page with nbviewer.org.</b></div><div class=\"sk-container\" hidden><div class=\"sk-item\"><div class=\"sk-estimator sk-toggleable\"><input class=\"sk-toggleable__control sk-hidden--visually\" id=\"sk-estimator-id-2\" type=\"checkbox\" checked><label for=\"sk-estimator-id-2\" class=\"sk-toggleable__label sk-toggleable__label-arrow\">GaussianNB</label><div class=\"sk-toggleable__content\"><pre>GaussianNB()</pre></div></div></div></div></div>"
      ],
      "text/plain": [
       "GaussianNB()"
      ]
     },
     "execution_count": 20,
     "metadata": {},
     "output_type": "execute_result"
    }
   ],
   "source": [
    "model = GaussianNB()\n",
    "model.fit(X_train, y_train)"
   ]
  },
  {
   "cell_type": "code",
   "execution_count": 21,
   "id": "1c24b234",
   "metadata": {},
   "outputs": [],
   "source": [
    "y_pred = model.predict(X_test)"
   ]
  },
  {
   "cell_type": "code",
   "execution_count": 22,
   "id": "34881ea3",
   "metadata": {},
   "outputs": [
    {
     "name": "stdout",
     "output_type": "stream",
     "text": [
      "Accuracy = 0.8508218462404051\n",
      "Confusion Matrix =\n",
      " [[ 3181    63    40    69  1517]\n",
      " [    9 17543   265    46   120]\n",
      " [   10     1   307    12     0]\n",
      " [ 1152    10    18   135   380]\n",
      " [    0     0     0     0     5]]\n",
      "Recall = 0.8508218462404051\n",
      "Classification Report =\n",
      "               precision    recall  f1-score   support\n",
      "\n",
      "           0       0.73      0.65      0.69      4870\n",
      "           1       1.00      0.98      0.99     17983\n",
      "           2       0.49      0.93      0.64       330\n",
      "           3       0.52      0.08      0.14      1695\n",
      "           4       0.00      1.00      0.00         5\n",
      "\n",
      "    accuracy                           0.85     24883\n",
      "   macro avg       0.55      0.73      0.49     24883\n",
      "weighted avg       0.90      0.85      0.87     24883\n",
      "\n"
     ]
    }
   ],
   "source": [
    "print(\"Accuracy =\", metrics.accuracy_score(y_test, y_pred))\n",
    "print(\"Confusion Matrix =\\n\", metrics.confusion_matrix(y_test, y_pred, labels=None, \n",
    "                                              sample_weight=None))\n",
    "print(\"Recall =\", metrics.recall_score(y_test, y_pred, labels=None, \n",
    "                                             pos_label=1, average='weighted', \n",
    "                                             sample_weight=None))\n",
    "print(\"Classification Report =\\n\", metrics.classification_report(y_test, y_pred, \n",
    "                                                                 labels=None, \n",
    "                                                                 target_names=None, \n",
    "                                                                 sample_weight=None, \n",
    "                                                                 digits=2, \n",
    "                                                                 output_dict=False))"
   ]
  },
  {
   "cell_type": "code",
   "execution_count": 23,
   "id": "385367a4",
   "metadata": {},
   "outputs": [
    {
     "data": {
      "text/plain": [
       "<AxesSubplot:title={'center':'Confusion Matrix'}, xlabel='Predicted label', ylabel='True label'>"
      ]
     },
     "execution_count": 23,
     "metadata": {},
     "output_type": "execute_result"
    },
    {
     "data": {
      "image/png": "[encoded data removed]",
      "text/plain": [
       "<Figure size 576x576 with 2 Axes>"
      ]
     },
     "metadata": {
      "needs_background": "light"
     },
     "output_type": "display_data"
    }
   ],
   "source": [
    "import scikitplot as skplt\n",
    "\n",
    "skplt.metrics.plot_confusion_matrix(\n",
    "    y_test,\n",
    "    y_pred,\n",
    "    figsize=(8,8))"
   ]
  },
  {
   "cell_type": "markdown",
   "id": "c19c7cf0",
   "metadata": {},
   "source": [
    "### 3. AdaBoost Classifier"
   ]
  },
  {
   "cell_type": "code",
   "execution_count": 24,
   "id": "e7190b4f",
   "metadata": {},
   "outputs": [],
   "source": [
    "# Adaboost\n",
    "from sklearn.ensemble import AdaBoostClassifier"
   ]
  },
  {
   "cell_type": "code",
   "execution_count": 25,
   "id": "9d67992b",
   "metadata": {},
   "outputs": [],
   "source": [
    "X = pd.read_csv('./train_data.csv')\n",
    "y = pd.read_csv('./train_label.csv')\n",
    "X_train, X_test, y_train, y_test = train_test_split(x, y, test_size=0.1, \n",
    "                                                    random_state=0)\n",
    "y_train = np.array(y_train)"
   ]
  },
  {
   "cell_type": "code",
   "execution_count": 26,
   "id": "300b604e",
   "metadata": {},
   "outputs": [
    {
     "data": {
      "text/html": [
       "<style>#sk-container-id-3 {color: black;background-color: white;}#sk-container-id-3 pre{padding: 0;}#sk-container-id-3 div.sk-toggleable {background-color: white;}#sk-container-id-3 label.sk-toggleable__label {cursor: pointer;display: block;width: 100%;margin-bottom: 0;padding: 0.3em;box-sizing: border-box;text-align: center;}#sk-container-id-3 label.sk-toggleable__label-arrow:before {content: \"▸\";float: left;margin-right: 0.25em;color: #696969;}#sk-container-id-3 label.sk-toggleable__label-arrow:hover:before {color: black;}#sk-container-id-3 div.sk-estimator:hover label.sk-toggleable__label-arrow:before {color: black;}#sk-container-id-3 div.sk-toggleable__content {max-height: 0;max-width: 0;overflow: hidden;text-align: left;background-color: #f0f8ff;}#sk-container-id-3 div.sk-toggleable__content pre {margin: 0.2em;color: black;border-radius: 0.25em;background-color: #f0f8ff;}#sk-container-id-3 input.sk-toggleable__control:checked~div.sk-toggleable__content {max-height: 200px;max-width: 100%;overflow: auto;}#sk-container-id-3 input.sk-toggleable__control:checked~label.sk-toggleable__label-arrow:before {content: \"▾\";}#sk-container-id-3 div.sk-estimator input.sk-toggleable__control:checked~label.sk-toggleable__label {background-color: #d4ebff;}#sk-container-id-3 div.sk-label input.sk-toggleable__control:checked~label.sk-toggleable__label {background-color: #d4ebff;}#sk-container-id-3 input.sk-hidden--visually {border: 0;clip: rect(1px 1px 1px 1px);clip: rect(1px, 1px, 1px, 1px);height: 1px;margin: -1px;overflow: hidden;padding: 0;position: absolute;width: 1px;}#sk-container-id-3 div.sk-estimator {font-family: monospace;background-color: #f0f8ff;border: 1px dotted black;border-radius: 0.25em;box-sizing: border-box;margin-bottom: 0.5em;}#sk-container-id-3 div.sk-estimator:hover {background-color: #d4ebff;}#sk-container-id-3 div.sk-parallel-item::after {content: \"\";width: 100%;border-bottom: 1px solid gray;flex-grow: 1;}#sk-container-id-3 div.sk-label:hover label.sk-toggleable__label {background-color: #d4ebff;}#sk-container-id-3 div.sk-serial::before {content: \"\";position: absolute;border-left: 1px solid gray;box-sizing: border-box;top: 0;bottom: 0;left: 50%;z-index: 0;}#sk-container-id-3 div.sk-serial {display: flex;flex-direction: column;align-items: center;background-color: white;padding-right: 0.2em;padding-left: 0.2em;position: relative;}#sk-container-id-3 div.sk-item {position: relative;z-index: 1;}#sk-container-id-3 div.sk-parallel {display: flex;align-items: stretch;justify-content: center;background-color: white;position: relative;}#sk-container-id-3 div.sk-item::before, #sk-container-id-3 div.sk-parallel-item::before {content: \"\";position: absolute;border-left: 1px solid gray;box-sizing: border-box;top: 0;bottom: 0;left: 50%;z-index: -1;}#sk-container-id-3 div.sk-parallel-item {display: flex;flex-direction: column;z-index: 1;position: relative;background-color: white;}#sk-container-id-3 div.sk-parallel-item:first-child::after {align-self: flex-end;width: 50%;}#sk-container-id-3 div.sk-parallel-item:last-child::after {align-self: flex-start;width: 50%;}#sk-container-id-3 div.sk-parallel-item:only-child::after {width: 0;}#sk-container-id-3 div.sk-dashed-wrapped {border: 1px dashed gray;margin: 0 0.4em 0.5em 0.4em;box-sizing: border-box;padding-bottom: 0.4em;background-color: white;}#sk-container-id-3 div.sk-label label {font-family: monospace;font-weight: bold;display: inline-block;line-height: 1.2em;}#sk-container-id-3 div.sk-label-container {text-align: center;}#sk-container-id-3 div.sk-container {/* jupyter's `normalize.less` sets `[hidden] { display: none; }` but bootstrap.min.css set `[hidden] { display: none !important; }` so we also need the `!important` here to be able to override the default hidden behavior on the sphinx rendered scikit-learn.org. See: https://github.com/scikit-learn/scikit-learn/issues/21755 */display: inline-block !important;position: relative;}#sk-container-id-3 div.sk-text-repr-fallback {display: none;}</style><div id=\"sk-container-id-3\" class=\"sk-top-container\"><div class=\"sk-text-repr-fallback\"><pre>AdaBoostClassifier()</pre><b>In a Jupyter environment, please rerun this cell to show the HTML representation or trust the notebook. <br />On GitHub, the HTML representation is unable to render, please try loading this page with nbviewer.org.</b></div><div class=\"sk-container\" hidden><div class=\"sk-item\"><div class=\"sk-estimator sk-toggleable\"><input class=\"sk-toggleable__control sk-hidden--visually\" id=\"sk-estimator-id-3\" type=\"checkbox\" checked><label for=\"sk-estimator-id-3\" class=\"sk-toggleable__label sk-toggleable__label-arrow\">AdaBoostClassifier</label><div class=\"sk-toggleable__content\"><pre>AdaBoostClassifier()</pre></div></div></div></div></div>"
      ],
      "text/plain": [
       "AdaBoostClassifier()"
      ]
     },
     "execution_count": 26,
     "metadata": {},
     "output_type": "execute_result"
    }
   ],
   "source": [
    "model = AdaBoostClassifier(n_estimators=50)\n",
    "model.fit(X_train, y_train)"
   ]
  },
  {
   "cell_type": "code",
   "execution_count": 27,
   "id": "71b22f50",
   "metadata": {},
   "outputs": [],
   "source": [
    "y_pred = model.predict(X_test)"
   ]
  },
  {
   "cell_type": "code",
   "execution_count": 28,
   "id": "40eab4ce",
   "metadata": {},
   "outputs": [
    {
     "name": "stdout",
     "output_type": "stream",
     "text": [
      "Accuracy = 0.7485833701724068\n",
      "Confusion Matrix =\n",
      " [[ 4573    48    46    94   109]\n",
      " [ 4450 13283   249     1     0]\n",
      " [   24     3   303     0     0]\n",
      " [ 1139    47    41   468     0]\n",
      " [    5     0     0     0     0]]\n",
      "Recall = 0.7485833701724068\n",
      "Classification Report =\n",
      "               precision    recall  f1-score   support\n",
      "\n",
      "           0       0.45      0.94      0.61      4870\n",
      "           1       0.99      0.74      0.85     17983\n",
      "           2       0.47      0.92      0.63       330\n",
      "           3       0.83      0.28      0.41      1695\n",
      "           4       0.00      0.00      0.00         5\n",
      "\n",
      "    accuracy                           0.75     24883\n",
      "   macro avg       0.55      0.57      0.50     24883\n",
      "weighted avg       0.87      0.75      0.77     24883\n",
      "\n"
     ]
    }
   ],
   "source": [
    "print(\"Accuracy =\", metrics.accuracy_score(y_test, y_pred))\n",
    "print(\"Confusion Matrix =\\n\", metrics.confusion_matrix(y_test, y_pred, labels=None, \n",
    "                                              sample_weight=None))\n",
    "print(\"Recall =\", metrics.recall_score(y_test, y_pred, labels=None, \n",
    "                                             pos_label=1, average='weighted', \n",
    "                                             sample_weight=None))\n",
    "print(\"Classification Report =\\n\", metrics.classification_report(y_test, y_pred, \n",
    "                                                                 labels=None, \n",
    "                                                                 target_names=None, \n",
    "                                                                 sample_weight=None, \n",
    "                                                                 digits=2, \n",
    "                                                                 output_dict=False))"
   ]
  },
  {
   "cell_type": "code",
   "execution_count": 29,
   "id": "7eaaa0ed",
   "metadata": {},
   "outputs": [
    {
     "data": {
      "text/plain": [
       "<AxesSubplot:title={'center':'Confusion Matrix'}, xlabel='Predicted label', ylabel='True label'>"
      ]
     },
     "execution_count": 29,
     "metadata": {},
     "output_type": "execute_result"
    },
    {
     "data": {
      "image/png": "[encoded data removed]",
      "text/plain": [
       "<Figure size 576x576 with 2 Axes>"
      ]
     },
     "metadata": {
      "needs_background": "light"
     },
     "output_type": "display_data"
    }
   ],
   "source": [
    "import scikitplot as skplt\n",
    "\n",
    "skplt.metrics.plot_confusion_matrix(\n",
    "    y_test,\n",
    "    y_pred,\n",
    "    figsize=(8,8))"
   ]
  },
  {
   "cell_type": "markdown",
   "id": "b322af06",
   "metadata": {},
   "source": [
    "### 4. Gradient Boosting Classifier"
   ]
  },
  {
   "cell_type": "code",
   "execution_count": 30,
   "id": "7551a6f2",
   "metadata": {},
   "outputs": [],
   "source": [
    "from sklearn.ensemble import GradientBoostingClassifier"
   ]
  },
  {
   "cell_type": "code",
   "execution_count": 31,
   "id": "98a00b24",
   "metadata": {},
   "outputs": [],
   "source": [
    "X = pd.read_csv('./train_data.csv')\n",
    "y = pd.read_csv('./train_label.csv')\n",
    "X_train, X_test, y_train, y_test = train_test_split(x, y, test_size=0.1, \n",
    "                                                    random_state=0)\n",
    "y_train = np.array(y_train)"
   ]
  },
  {
   "cell_type": "code",
   "execution_count": 32,
   "id": "bfdb3993",
   "metadata": {},
   "outputs": [
    {
     "data": {
      "text/html": [
       "<style>#sk-container-id-4 {color: black;background-color: white;}#sk-container-id-4 pre{padding: 0;}#sk-container-id-4 div.sk-toggleable {background-color: white;}#sk-container-id-4 label.sk-toggleable__label {cursor: pointer;display: block;width: 100%;margin-bottom: 0;padding: 0.3em;box-sizing: border-box;text-align: center;}#sk-container-id-4 label.sk-toggleable__label-arrow:before {content: \"▸\";float: left;margin-right: 0.25em;color: #696969;}#sk-container-id-4 label.sk-toggleable__label-arrow:hover:before {color: black;}#sk-container-id-4 div.sk-estimator:hover label.sk-toggleable__label-arrow:before {color: black;}#sk-container-id-4 div.sk-toggleable__content {max-height: 0;max-width: 0;overflow: hidden;text-align: left;background-color: #f0f8ff;}#sk-container-id-4 div.sk-toggleable__content pre {margin: 0.2em;color: black;border-radius: 0.25em;background-color: #f0f8ff;}#sk-container-id-4 input.sk-toggleable__control:checked~div.sk-toggleable__content {max-height: 200px;max-width: 100%;overflow: auto;}#sk-container-id-4 input.sk-toggleable__control:checked~label.sk-toggleable__label-arrow:before {content: \"▾\";}#sk-container-id-4 div.sk-estimator input.sk-toggleable__control:checked~label.sk-toggleable__label {background-color: #d4ebff;}#sk-container-id-4 div.sk-label input.sk-toggleable__control:checked~label.sk-toggleable__label {background-color: #d4ebff;}#sk-container-id-4 input.sk-hidden--visually {border: 0;clip: rect(1px 1px 1px 1px);clip: rect(1px, 1px, 1px, 1px);height: 1px;margin: -1px;overflow: hidden;padding: 0;position: absolute;width: 1px;}#sk-container-id-4 div.sk-estimator {font-family: monospace;background-color: #f0f8ff;border: 1px dotted black;border-radius: 0.25em;box-sizing: border-box;margin-bottom: 0.5em;}#sk-container-id-4 div.sk-estimator:hover {background-color: #d4ebff;}#sk-container-id-4 div.sk-parallel-item::after {content: \"\";width: 100%;border-bottom: 1px solid gray;flex-grow: 1;}#sk-container-id-4 div.sk-label:hover label.sk-toggleable__label {background-color: #d4ebff;}#sk-container-id-4 div.sk-serial::before {content: \"\";position: absolute;border-left: 1px solid gray;box-sizing: border-box;top: 0;bottom: 0;left: 50%;z-index: 0;}#sk-container-id-4 div.sk-serial {display: flex;flex-direction: column;align-items: center;background-color: white;padding-right: 0.2em;padding-left: 0.2em;position: relative;}#sk-container-id-4 div.sk-item {position: relative;z-index: 1;}#sk-container-id-4 div.sk-parallel {display: flex;align-items: stretch;justify-content: center;background-color: white;position: relative;}#sk-container-id-4 div.sk-item::before, #sk-container-id-4 div.sk-parallel-item::before {content: \"\";position: absolute;border-left: 1px solid gray;box-sizing: border-box;top: 0;bottom: 0;left: 50%;z-index: -1;}#sk-container-id-4 div.sk-parallel-item {display: flex;flex-direction: column;z-index: 1;position: relative;background-color: white;}#sk-container-id-4 div.sk-parallel-item:first-child::after {align-self: flex-end;width: 50%;}#sk-container-id-4 div.sk-parallel-item:last-child::after {align-self: flex-start;width: 50%;}#sk-container-id-4 div.sk-parallel-item:only-child::after {width: 0;}#sk-container-id-4 div.sk-dashed-wrapped {border: 1px dashed gray;margin: 0 0.4em 0.5em 0.4em;box-sizing: border-box;padding-bottom: 0.4em;background-color: white;}#sk-container-id-4 div.sk-label label {font-family: monospace;font-weight: bold;display: inline-block;line-height: 1.2em;}#sk-container-id-4 div.sk-label-container {text-align: center;}#sk-container-id-4 div.sk-container {/* jupyter's `normalize.less` sets `[hidden] { display: none; }` but bootstrap.min.css set `[hidden] { display: none !important; }` so we also need the `!important` here to be able to override the default hidden behavior on the sphinx rendered scikit-learn.org. See: https://github.com/scikit-learn/scikit-learn/issues/21755 */display: inline-block !important;position: relative;}#sk-container-id-4 div.sk-text-repr-fallback {display: none;}</style><div id=\"sk-container-id-4\" class=\"sk-top-container\"><div class=\"sk-text-repr-fallback\"><pre>GradientBoostingClassifier(n_estimators=50)</pre><b>In a Jupyter environment, please rerun this cell to show the HTML representation or trust the notebook. <br />On GitHub, the HTML representation is unable to render, please try loading this page with nbviewer.org.</b></div><div class=\"sk-container\" hidden><div class=\"sk-item\"><div class=\"sk-estimator sk-toggleable\"><input class=\"sk-toggleable__control sk-hidden--visually\" id=\"sk-estimator-id-4\" type=\"checkbox\" checked><label for=\"sk-estimator-id-4\" class=\"sk-toggleable__label sk-toggleable__label-arrow\">GradientBoostingClassifier</label><div class=\"sk-toggleable__content\"><pre>GradientBoostingClassifier(n_estimators=50)</pre></div></div></div></div></div>"
      ],
      "text/plain": [
       "GradientBoostingClassifier(n_estimators=50)"
      ]
     },
     "execution_count": 32,
     "metadata": {},
     "output_type": "execute_result"
    }
   ],
   "source": [
    "model = GradientBoostingClassifier(n_estimators=50)\n",
    "model.fit(X_train, y_train)"
   ]
  },
  {
   "cell_type": "code",
   "execution_count": 33,
   "id": "587a848a",
   "metadata": {},
   "outputs": [],
   "source": [
    "y_pred = model.predict(X_test)"
   ]
  },
  {
   "cell_type": "code",
   "execution_count": 34,
   "id": "3b22c208",
   "metadata": {},
   "outputs": [
    {
     "name": "stdout",
     "output_type": "stream",
     "text": [
      "Accuracy = 0.9782180605232488\n",
      "Confusion Matrix =\n",
      " [[ 4615     1     4   250     0]\n",
      " [    1 17981     1     0     0]\n",
      " [   12     1   315     2     0]\n",
      " [  261     0     4  1430     0]\n",
      " [    5     0     0     0     0]]\n",
      "Recall = 0.9782180605232488\n",
      "Classification Report =\n",
      "               precision    recall  f1-score   support\n",
      "\n",
      "           0       0.94      0.95      0.95      4870\n",
      "           1       1.00      1.00      1.00     17983\n",
      "           2       0.97      0.95      0.96       330\n",
      "           3       0.85      0.84      0.85      1695\n",
      "           4       0.00      0.00      0.00         5\n",
      "\n",
      "    accuracy                           0.98     24883\n",
      "   macro avg       0.75      0.75      0.75     24883\n",
      "weighted avg       0.98      0.98      0.98     24883\n",
      "\n"
     ]
    }
   ],
   "source": [
    "print(\"Accuracy =\", metrics.accuracy_score(y_test, y_pred))\n",
    "print(\"Confusion Matrix =\\n\", metrics.confusion_matrix(y_test, y_pred, labels=None, \n",
    "                                              sample_weight=None))\n",
    "print(\"Recall =\", metrics.recall_score(y_test, y_pred, labels=None, \n",
    "                                             pos_label=1, average='weighted', \n",
    "                                             sample_weight=None))\n",
    "print(\"Classification Report =\\n\", metrics.classification_report(y_test, y_pred, \n",
    "                                                                 labels=None, \n",
    "                                                                 target_names=None, \n",
    "                                                                 sample_weight=None, \n",
    "                                                                 digits=2, \n",
    "                                                                 output_dict=False))"
   ]
  },
  {
   "cell_type": "code",
   "execution_count": 35,
   "id": "1e88e4c7",
   "metadata": {},
   "outputs": [
    {
     "data": {
      "text/plain": [
       "<AxesSubplot:title={'center':'Confusion Matrix'}, xlabel='Predicted label', ylabel='True label'>"
      ]
     },
     "execution_count": 35,
     "metadata": {},
     "output_type": "execute_result"
    },
    {
     "data": {
      "image/png": "[encoded data removed]",
      "text/plain": [
       "<Figure size 576x576 with 2 Axes>"
      ]
     },
     "metadata": {
      "needs_background": "light"
     },
     "output_type": "display_data"
    }
   ],
   "source": [
    "import scikitplot as skplt\n",
    "\n",
    "skplt.metrics.plot_confusion_matrix(\n",
    "    y_test,\n",
    "    y_pred,\n",
    "    figsize=(8,8))"
   ]
  },
  {
   "cell_type": "markdown",
   "id": "b3d9dc35",
   "metadata": {},
   "source": [
    "### 5. Multi-Layer Perceptron"
   ]
  },
  {
   "cell_type": "code",
   "execution_count": 36,
   "id": "e94aba60",
   "metadata": {},
   "outputs": [],
   "source": [
    "from sklearn.neural_network import MLPClassifier"
   ]
  },
  {
   "cell_type": "code",
   "execution_count": 37,
   "id": "0d2307ab",
   "metadata": {},
   "outputs": [],
   "source": [
    "X = pd.read_csv('./train_data.csv')\n",
    "y = pd.read_csv('./train_label.csv')\n",
    "X_train, X_test, y_train, y_test = train_test_split(x, y, test_size=0.1, \n",
    "                                                    random_state=0)\n",
    "y_train = np.array(y_train)"
   ]
  },
  {
   "cell_type": "code",
   "execution_count": 38,
   "id": "1f85efd3",
   "metadata": {},
   "outputs": [
    {
     "data": {
      "text/html": [
       "<style>#sk-container-id-5 {color: black;background-color: white;}#sk-container-id-5 pre{padding: 0;}#sk-container-id-5 div.sk-toggleable {background-color: white;}#sk-container-id-5 label.sk-toggleable__label {cursor: pointer;display: block;width: 100%;margin-bottom: 0;padding: 0.3em;box-sizing: border-box;text-align: center;}#sk-container-id-5 label.sk-toggleable__label-arrow:before {content: \"▸\";float: left;margin-right: 0.25em;color: #696969;}#sk-container-id-5 label.sk-toggleable__label-arrow:hover:before {color: black;}#sk-container-id-5 div.sk-estimator:hover label.sk-toggleable__label-arrow:before {color: black;}#sk-container-id-5 div.sk-toggleable__content {max-height: 0;max-width: 0;overflow: hidden;text-align: left;background-color: #f0f8ff;}#sk-container-id-5 div.sk-toggleable__content pre {margin: 0.2em;color: black;border-radius: 0.25em;background-color: #f0f8ff;}#sk-container-id-5 input.sk-toggleable__control:checked~div.sk-toggleable__content {max-height: 200px;max-width: 100%;overflow: auto;}#sk-container-id-5 input.sk-toggleable__control:checked~label.sk-toggleable__label-arrow:before {content: \"▾\";}#sk-container-id-5 div.sk-estimator input.sk-toggleable__control:checked~label.sk-toggleable__label {background-color: #d4ebff;}#sk-container-id-5 div.sk-label input.sk-toggleable__control:checked~label.sk-toggleable__label {background-color: #d4ebff;}#sk-container-id-5 input.sk-hidden--visually {border: 0;clip: rect(1px 1px 1px 1px);clip: rect(1px, 1px, 1px, 1px);height: 1px;margin: -1px;overflow: hidden;padding: 0;position: absolute;width: 1px;}#sk-container-id-5 div.sk-estimator {font-family: monospace;background-color: #f0f8ff;border: 1px dotted black;border-radius: 0.25em;box-sizing: border-box;margin-bottom: 0.5em;}#sk-container-id-5 div.sk-estimator:hover {background-color: #d4ebff;}#sk-container-id-5 div.sk-parallel-item::after {content: \"\";width: 100%;border-bottom: 1px solid gray;flex-grow: 1;}#sk-container-id-5 div.sk-label:hover label.sk-toggleable__label {background-color: #d4ebff;}#sk-container-id-5 div.sk-serial::before {content: \"\";position: absolute;border-left: 1px solid gray;box-sizing: border-box;top: 0;bottom: 0;left: 50%;z-index: 0;}#sk-container-id-5 div.sk-serial {display: flex;flex-direction: column;align-items: center;background-color: white;padding-right: 0.2em;padding-left: 0.2em;position: relative;}#sk-container-id-5 div.sk-item {position: relative;z-index: 1;}#sk-container-id-5 div.sk-parallel {display: flex;align-items: stretch;justify-content: center;background-color: white;position: relative;}#sk-container-id-5 div.sk-item::before, #sk-container-id-5 div.sk-parallel-item::before {content: \"\";position: absolute;border-left: 1px solid gray;box-sizing: border-box;top: 0;bottom: 0;left: 50%;z-index: -1;}#sk-container-id-5 div.sk-parallel-item {display: flex;flex-direction: column;z-index: 1;position: relative;background-color: white;}#sk-container-id-5 div.sk-parallel-item:first-child::after {align-self: flex-end;width: 50%;}#sk-container-id-5 div.sk-parallel-item:last-child::after {align-self: flex-start;width: 50%;}#sk-container-id-5 div.sk-parallel-item:only-child::after {width: 0;}#sk-container-id-5 div.sk-dashed-wrapped {border: 1px dashed gray;margin: 0 0.4em 0.5em 0.4em;box-sizing: border-box;padding-bottom: 0.4em;background-color: white;}#sk-container-id-5 div.sk-label label {font-family: monospace;font-weight: bold;display: inline-block;line-height: 1.2em;}#sk-container-id-5 div.sk-label-container {text-align: center;}#sk-container-id-5 div.sk-container {/* jupyter's `normalize.less` sets `[hidden] { display: none; }` but bootstrap.min.css set `[hidden] { display: none !important; }` so we also need the `!important` here to be able to override the default hidden behavior on the sphinx rendered scikit-learn.org. See: https://github.com/scikit-learn/scikit-learn/issues/21755 */display: inline-block !important;position: relative;}#sk-container-id-5 div.sk-text-repr-fallback {display: none;}</style><div id=\"sk-container-id-5\" class=\"sk-top-container\"><div class=\"sk-text-repr-fallback\"><pre>MLPClassifier(alpha=1e-05, hidden_layer_sizes=(15,), random_state=1,\n",
       "              solver=&#x27;lbfgs&#x27;)</pre><b>In a Jupyter environment, please rerun this cell to show the HTML representation or trust the notebook. <br />On GitHub, the HTML representation is unable to render, please try loading this page with nbviewer.org.</b></div><div class=\"sk-container\" hidden><div class=\"sk-item\"><div class=\"sk-estimator sk-toggleable\"><input class=\"sk-toggleable__control sk-hidden--visually\" id=\"sk-estimator-id-5\" type=\"checkbox\" checked><label for=\"sk-estimator-id-5\" class=\"sk-toggleable__label sk-toggleable__label-arrow\">MLPClassifier</label><div class=\"sk-toggleable__content\"><pre>MLPClassifier(alpha=1e-05, hidden_layer_sizes=(15,), random_state=1,\n",
       "              solver=&#x27;lbfgs&#x27;)</pre></div></div></div></div></div>"
      ],
      "text/plain": [
       "MLPClassifier(alpha=1e-05, hidden_layer_sizes=(15,), random_state=1,\n",
       "              solver='lbfgs')"
      ]
     },
     "execution_count": 38,
     "metadata": {},
     "output_type": "execute_result"
    }
   ],
   "source": [
    "model = MLPClassifier(solver='lbfgs', alpha=1e-5, hidden_layer_sizes=(15,), random_state=1)\n",
    "model.fit(X_train, y_train)"
   ]
  },
  {
   "cell_type": "code",
   "execution_count": 39,
   "id": "952274d3",
   "metadata": {},
   "outputs": [],
   "source": [
    "y_pred = model.predict(X_test)"
   ]
  },
  {
   "cell_type": "code",
   "execution_count": 40,
   "id": "739f0f89",
   "metadata": {},
   "outputs": [
    {
     "name": "stdout",
     "output_type": "stream",
     "text": [
      "Accuracy = 0.9612586906723466\n",
      "Confusion Matrix =\n",
      " [[ 4383    27    23   437     0]\n",
      " [    7 17957    10     9     0]\n",
      " [   10    46   268     6     0]\n",
      " [  368     2    14  1311     0]\n",
      " [    4     0     0     1     0]]\n",
      "Recall = 0.9612586906723466\n",
      "Classification Report =\n",
      "               precision    recall  f1-score   support\n",
      "\n",
      "           0       0.92      0.90      0.91      4870\n",
      "           1       1.00      1.00      1.00     17983\n",
      "           2       0.85      0.81      0.83       330\n",
      "           3       0.74      0.77      0.76      1695\n",
      "           4       0.00      0.00      0.00         5\n",
      "\n",
      "    accuracy                           0.96     24883\n",
      "   macro avg       0.70      0.70      0.70     24883\n",
      "weighted avg       0.96      0.96      0.96     24883\n",
      "\n"
     ]
    }
   ],
   "source": [
    "print(\"Accuracy =\", metrics.accuracy_score(y_test, y_pred))\n",
    "print(\"Confusion Matrix =\\n\", metrics.confusion_matrix(y_test, y_pred, labels=None, \n",
    "                                              sample_weight=None))\n",
    "print(\"Recall =\", metrics.recall_score(y_test, y_pred, labels=None, \n",
    "                                             pos_label=1, average='weighted', \n",
    "                                             sample_weight=None))\n",
    "print(\"Classification Report =\\n\", metrics.classification_report(y_test, y_pred, \n",
    "                                                                 labels=None, \n",
    "                                                                 target_names=None, \n",
    "                                                                 sample_weight=None, \n",
    "                                                                 digits=2, \n",
    "                                                                 output_dict=False))"
   ]
  },
  {
   "cell_type": "code",
   "execution_count": 41,
   "id": "739cc596",
   "metadata": {},
   "outputs": [
    {
     "data": {
      "text/plain": [
       "<AxesSubplot:title={'center':'Confusion Matrix'}, xlabel='Predicted label', ylabel='True label'>"
      ]
     },
     "execution_count": 41,
     "metadata": {},
     "output_type": "execute_result"
    },
    {
     "data": {
      "image/png": "[encoded data removed]",
      "text/plain": [
       "<Figure size 576x576 with 2 Axes>"
      ]
     },
     "metadata": {
      "needs_background": "light"
     },
     "output_type": "display_data"
    }
   ],
   "source": [
    "import scikitplot as skplt\n",
    "\n",
    "skplt.metrics.plot_confusion_matrix(\n",
    "    y_test,\n",
    "    y_pred,\n",
    "    figsize=(8,8))"
   ]
  },
  {
   "cell_type": "markdown",
   "id": "5e3b4653",
   "metadata": {},
   "source": [
    "### 6. XGBoost Classifier"
   ]
  },
  {
   "cell_type": "code",
   "execution_count": 42,
   "id": "5d3cdd89",
   "metadata": {},
   "outputs": [
    {
     "name": "stdout",
     "output_type": "stream",
     "text": [
      "Requirement already satisfied: xgboost in c:\\users\\jayka\\anaconda3\\lib\\site-packages (1.6.2)\n",
      "Requirement already satisfied: scipy in c:\\users\\jayka\\anaconda3\\lib\\site-packages (from xgboost) (1.9.2)\n",
      "Requirement already satisfied: numpy in c:\\users\\jayka\\anaconda3\\lib\\site-packages (from xgboost) (1.22.4)\n"
     ]
    }
   ],
   "source": [
    "!pip install xgboost"
   ]
  },
  {
   "cell_type": "code",
   "execution_count": 43,
   "id": "a6951b11",
   "metadata": {
    "scrolled": true
   },
   "outputs": [],
   "source": [
    "import xgboost as xgb"
   ]
  },
  {
   "cell_type": "code",
   "execution_count": 44,
   "id": "602b0678",
   "metadata": {},
   "outputs": [],
   "source": [
    "X = pd.read_csv('./train_data.csv')\n",
    "y = pd.read_csv('./train_label.csv')\n",
    "X_train, X_test, y_train, y_test = train_test_split(x, y, test_size=0.1, \n",
    "                                                    random_state=0)\n",
    "y_train = np.array(y_train)"
   ]
  },
  {
   "cell_type": "code",
   "execution_count": 45,
   "id": "417a49ca",
   "metadata": {},
   "outputs": [
    {
     "data": {
      "text/html": [
       "<style>#sk-container-id-6 {color: black;background-color: white;}#sk-container-id-6 pre{padding: 0;}#sk-container-id-6 div.sk-toggleable {background-color: white;}#sk-container-id-6 label.sk-toggleable__label {cursor: pointer;display: block;width: 100%;margin-bottom: 0;padding: 0.3em;box-sizing: border-box;text-align: center;}#sk-container-id-6 label.sk-toggleable__label-arrow:before {content: \"▸\";float: left;margin-right: 0.25em;color: #696969;}#sk-container-id-6 label.sk-toggleable__label-arrow:hover:before {color: black;}#sk-container-id-6 div.sk-estimator:hover label.sk-toggleable__label-arrow:before {color: black;}#sk-container-id-6 div.sk-toggleable__content {max-height: 0;max-width: 0;overflow: hidden;text-align: left;background-color: #f0f8ff;}#sk-container-id-6 div.sk-toggleable__content pre {margin: 0.2em;color: black;border-radius: 0.25em;background-color: #f0f8ff;}#sk-container-id-6 input.sk-toggleable__control:checked~div.sk-toggleable__content {max-height: 200px;max-width: 100%;overflow: auto;}#sk-container-id-6 input.sk-toggleable__control:checked~label.sk-toggleable__label-arrow:before {content: \"▾\";}#sk-container-id-6 div.sk-estimator input.sk-toggleable__control:checked~label.sk-toggleable__label {background-color: #d4ebff;}#sk-container-id-6 div.sk-label input.sk-toggleable__control:checked~label.sk-toggleable__label {background-color: #d4ebff;}#sk-container-id-6 input.sk-hidden--visually {border: 0;clip: rect(1px 1px 1px 1px);clip: rect(1px, 1px, 1px, 1px);height: 1px;margin: -1px;overflow: hidden;padding: 0;position: absolute;width: 1px;}#sk-container-id-6 div.sk-estimator {font-family: monospace;background-color: #f0f8ff;border: 1px dotted black;border-radius: 0.25em;box-sizing: border-box;margin-bottom: 0.5em;}#sk-container-id-6 div.sk-estimator:hover {background-color: #d4ebff;}#sk-container-id-6 div.sk-parallel-item::after {content: \"\";width: 100%;border-bottom: 1px solid gray;flex-grow: 1;}#sk-container-id-6 div.sk-label:hover label.sk-toggleable__label {background-color: #d4ebff;}#sk-container-id-6 div.sk-serial::before {content: \"\";position: absolute;border-left: 1px solid gray;box-sizing: border-box;top: 0;bottom: 0;left: 50%;z-index: 0;}#sk-container-id-6 div.sk-serial {display: flex;flex-direction: column;align-items: center;background-color: white;padding-right: 0.2em;padding-left: 0.2em;position: relative;}#sk-container-id-6 div.sk-item {position: relative;z-index: 1;}#sk-container-id-6 div.sk-parallel {display: flex;align-items: stretch;justify-content: center;background-color: white;position: relative;}#sk-container-id-6 div.sk-item::before, #sk-container-id-6 div.sk-parallel-item::before {content: \"\";position: absolute;border-left: 1px solid gray;box-sizing: border-box;top: 0;bottom: 0;left: 50%;z-index: -1;}#sk-container-id-6 div.sk-parallel-item {display: flex;flex-direction: column;z-index: 1;position: relative;background-color: white;}#sk-container-id-6 div.sk-parallel-item:first-child::after {align-self: flex-end;width: 50%;}#sk-container-id-6 div.sk-parallel-item:last-child::after {align-self: flex-start;width: 50%;}#sk-container-id-6 div.sk-parallel-item:only-child::after {width: 0;}#sk-container-id-6 div.sk-dashed-wrapped {border: 1px dashed gray;margin: 0 0.4em 0.5em 0.4em;box-sizing: border-box;padding-bottom: 0.4em;background-color: white;}#sk-container-id-6 div.sk-label label {font-family: monospace;font-weight: bold;display: inline-block;line-height: 1.2em;}#sk-container-id-6 div.sk-label-container {text-align: center;}#sk-container-id-6 div.sk-container {/* jupyter's `normalize.less` sets `[hidden] { display: none; }` but bootstrap.min.css set `[hidden] { display: none !important; }` so we also need the `!important` here to be able to override the default hidden behavior on the sphinx rendered scikit-learn.org. See: https://github.com/scikit-learn/scikit-learn/issues/21755 */display: inline-block !important;position: relative;}#sk-container-id-6 div.sk-text-repr-fallback {display: none;}</style><div id=\"sk-container-id-6\" class=\"sk-top-container\"><div class=\"sk-text-repr-fallback\"><pre>XGBClassifier(base_score=0.5, booster=&#x27;gbtree&#x27;, callbacks=None,\n",
       "              colsample_bylevel=1, colsample_bynode=1, colsample_bytree=1,\n",
       "              early_stopping_rounds=None, enable_categorical=False,\n",
       "              eval_metric=None, gamma=0, gpu_id=-1, grow_policy=&#x27;depthwise&#x27;,\n",
       "              importance_type=None, interaction_constraints=&#x27;&#x27;,\n",
       "              learning_rate=0.300000012, max_bin=256, max_cat_to_onehot=4,\n",
       "              max_delta_step=0, max_depth=6, max_leaves=0, min_child_weight=1,\n",
       "              missing=nan, monotone_constraints=&#x27;()&#x27;, n_estimators=100,\n",
       "              n_jobs=0, num_parallel_tree=1, objective=&#x27;multi:softprob&#x27;,\n",
       "              predictor=&#x27;auto&#x27;, random_state=42, reg_alpha=0, ...)</pre><b>In a Jupyter environment, please rerun this cell to show the HTML representation or trust the notebook. <br />On GitHub, the HTML representation is unable to render, please try loading this page with nbviewer.org.</b></div><div class=\"sk-container\" hidden><div class=\"sk-item\"><div class=\"sk-estimator sk-toggleable\"><input class=\"sk-toggleable__control sk-hidden--visually\" id=\"sk-estimator-id-6\" type=\"checkbox\" checked><label for=\"sk-estimator-id-6\" class=\"sk-toggleable__label sk-toggleable__label-arrow\">XGBClassifier</label><div class=\"sk-toggleable__content\"><pre>XGBClassifier(base_score=0.5, booster=&#x27;gbtree&#x27;, callbacks=None,\n",
       "              colsample_bylevel=1, colsample_bynode=1, colsample_bytree=1,\n",
       "              early_stopping_rounds=None, enable_categorical=False,\n",
       "              eval_metric=None, gamma=0, gpu_id=-1, grow_policy=&#x27;depthwise&#x27;,\n",
       "              importance_type=None, interaction_constraints=&#x27;&#x27;,\n",
       "              learning_rate=0.300000012, max_bin=256, max_cat_to_onehot=4,\n",
       "              max_delta_step=0, max_depth=6, max_leaves=0, min_child_weight=1,\n",
       "              missing=nan, monotone_constraints=&#x27;()&#x27;, n_estimators=100,\n",
       "              n_jobs=0, num_parallel_tree=1, objective=&#x27;multi:softprob&#x27;,\n",
       "              predictor=&#x27;auto&#x27;, random_state=42, reg_alpha=0, ...)</pre></div></div></div></div></div>"
      ],
      "text/plain": [
       "XGBClassifier(base_score=0.5, booster='gbtree', callbacks=None,\n",
       "              colsample_bylevel=1, colsample_bynode=1, colsample_bytree=1,\n",
       "              early_stopping_rounds=None, enable_categorical=False,\n",
       "              eval_metric=None, gamma=0, gpu_id=-1, grow_policy='depthwise',\n",
       "              importance_type=None, interaction_constraints='',\n",
       "              learning_rate=0.300000012, max_bin=256, max_cat_to_onehot=4,\n",
       "              max_delta_step=0, max_depth=6, max_leaves=0, min_child_weight=1,\n",
       "              missing=nan, monotone_constraints='()', n_estimators=100,\n",
       "              n_jobs=0, num_parallel_tree=1, objective='multi:softprob',\n",
       "              predictor='auto', random_state=42, reg_alpha=0, ...)"
      ]
     },
     "execution_count": 45,
     "metadata": {},
     "output_type": "execute_result"
    }
   ],
   "source": [
    "model = xgb.XGBClassifier(objective=\"binary:logistic\", random_state=42)\n",
    "model.fit(X_train, y_train)"
   ]
  },
  {
   "cell_type": "code",
   "execution_count": 46,
   "id": "2b04bedd",
   "metadata": {},
   "outputs": [],
   "source": [
    "y_pred = model.predict(X_test)"
   ]
  },
  {
   "cell_type": "code",
   "execution_count": 47,
   "id": "50c6796c",
   "metadata": {},
   "outputs": [
    {
     "name": "stdout",
     "output_type": "stream",
     "text": [
      "Accuracy = 0.9796246433307881\n",
      "Confusion Matrix =\n",
      " [[ 4585     0     3   282     0]\n",
      " [    0 17982     0     1     0]\n",
      " [    0     1   329     0     0]\n",
      " [  220     0     0  1475     0]\n",
      " [    0     0     0     0     5]]\n",
      "Recall = 0.9796246433307881\n",
      "Classification Report =\n",
      "               precision    recall  f1-score   support\n",
      "\n",
      "           0       0.95      0.94      0.95      4870\n",
      "           1       1.00      1.00      1.00     17983\n",
      "           2       0.99      1.00      0.99       330\n",
      "           3       0.84      0.87      0.85      1695\n",
      "           4       1.00      1.00      1.00         5\n",
      "\n",
      "    accuracy                           0.98     24883\n",
      "   macro avg       0.96      0.96      0.96     24883\n",
      "weighted avg       0.98      0.98      0.98     24883\n",
      "\n"
     ]
    }
   ],
   "source": [
    "print(\"Accuracy =\", metrics.accuracy_score(y_test, y_pred))\n",
    "print(\"Confusion Matrix =\\n\", metrics.confusion_matrix(y_test, y_pred, labels=None, \n",
    "                                              sample_weight=None))\n",
    "print(\"Recall =\", metrics.recall_score(y_test, y_pred, labels=None, \n",
    "                                             pos_label=1, average='weighted', \n",
    "                                             sample_weight=None))\n",
    "print(\"Classification Report =\\n\", metrics.classification_report(y_test, y_pred, \n",
    "                                                                 labels=None, \n",
    "                                                                 target_names=None, \n",
    "                                                                 sample_weight=None, \n",
    "                                                                 digits=2, \n",
    "                                                                 output_dict=False))"
   ]
  },
  {
   "cell_type": "code",
   "execution_count": null,
   "id": "7ff9ec45",
   "metadata": {},
   "outputs": [],
   "source": []
  }
 ],
 "metadata": {
  "kernelspec": {
   "display_name": "Python 3 (ipykernel)",
   "language": "python",
   "name": "python3"
  },
  "language_info": {
   "codemirror_mode": {
    "name": "ipython",
    "version": 3
   },
   "file_extension": ".py",
   "mimetype": "text/x-python",
   "name": "python",
   "nbconvert_exporter": "python",
   "pygments_lexer": "ipython3",
   "version": "3.9.12"
  }
 },
 "nbformat": 4,
 "nbformat_minor": 5
}
